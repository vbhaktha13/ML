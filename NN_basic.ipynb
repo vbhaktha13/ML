{
  "nbformat": 4,
  "nbformat_minor": 0,
  "metadata": {
    "colab": {
      "name": "Untitled2.ipynb",
      "provenance": [],
      "authorship_tag": "ABX9TyMiDy5U/+KdK7CymSRoBpx9",
      "include_colab_link": true
    },
    "kernelspec": {
      "name": "python3",
      "display_name": "Python 3"
    },
    "language_info": {
      "name": "python"
    }
  },
  "cells": [
    {
      "cell_type": "markdown",
      "metadata": {
        "id": "view-in-github",
        "colab_type": "text"
      },
      "source": [
        "<a href=\"https://colab.research.google.com/github/vbhaktha13/ML/blob/main/NN_basic.ipynb\" target=\"_parent\"><img src=\"https://colab.research.google.com/assets/colab-badge.svg\" alt=\"Open In Colab\"/></a>"
      ]
    },
    {
      "cell_type": "code",
      "execution_count": 1,
      "metadata": {
        "id": "dgY3bNitIeOv"
      },
      "outputs": [],
      "source": [
        "import tensorflow"
      ]
    },
    {
      "cell_type": "code",
      "source": [
        "from tensorflow.keras.models import Sequential\n",
        "from tensorflow.keras.layers import Dense\n",
        "from tensorflow.keras import optimizers"
      ],
      "metadata": {
        "id": "Ocpr-c4FOLXf"
      },
      "execution_count": 2,
      "outputs": []
    },
    {
      "cell_type": "code",
      "source": [
        "pip install sklearn"
      ],
      "metadata": {
        "colab": {
          "base_uri": "https://localhost:8080/"
        },
        "id": "OBNTOxRjPIvI",
        "outputId": "fbcff255-0ce4-4aeb-d7f7-d87266949953"
      },
      "execution_count": 3,
      "outputs": [
        {
          "output_type": "stream",
          "name": "stdout",
          "text": [
            "Requirement already satisfied: sklearn in /usr/local/lib/python3.7/dist-packages (0.0)\n",
            "Requirement already satisfied: scikit-learn in /usr/local/lib/python3.7/dist-packages (from sklearn) (1.0.2)\n",
            "Requirement already satisfied: numpy>=1.14.6 in /usr/local/lib/python3.7/dist-packages (from scikit-learn->sklearn) (1.19.5)\n",
            "Requirement already satisfied: joblib>=0.11 in /usr/local/lib/python3.7/dist-packages (from scikit-learn->sklearn) (1.1.0)\n",
            "Requirement already satisfied: scipy>=1.1.0 in /usr/local/lib/python3.7/dist-packages (from scikit-learn->sklearn) (1.4.1)\n",
            "Requirement already satisfied: threadpoolctl>=2.0.0 in /usr/local/lib/python3.7/dist-packages (from scikit-learn->sklearn) (3.0.0)\n"
          ]
        }
      ]
    },
    {
      "cell_type": "code",
      "source": [
        "import sklearn\n",
        "from sklearn.datasets import make_blobs\n",
        "from sklearn.preprocessing import MinMaxScaler\n",
        "import matplotlib.pyplot as plt\n",
        "%matplotlib inline"
      ],
      "metadata": {
        "id": "1PI0WsbjPVn_"
      },
      "execution_count": 4,
      "outputs": []
    },
    {
      "cell_type": "code",
      "source": [
        "X,y = make_blobs(n_samples=200,centers=2,n_features=2,random_state=1)\n",
        "scalar=MinMaxScaler()\n",
        "scalar.fit(X)\n",
        "X=scalar.transform(X)"
      ],
      "metadata": {
        "id": "XX3hjOgWREcT"
      },
      "execution_count": 5,
      "outputs": []
    },
    {
      "cell_type": "code",
      "source": [
        "#train test split\n",
        "X_train,y_train = X[:160],y[:160]  #split 160:40\n",
        "X_test,y_test=X[160:],y[160:]"
      ],
      "metadata": {
        "id": "oNgW64ZWSkFm"
      },
      "execution_count": 6,
      "outputs": []
    },
    {
      "cell_type": "code",
      "source": [
        "plt.scatter(X[:,0],X[:,1])\n",
        "plt.show"
      ],
      "metadata": {
        "colab": {
          "base_uri": "https://localhost:8080/",
          "height": 283
        },
        "id": "fFShrQIuTc7a",
        "outputId": "3cfcad2e-6355-4021-d6cd-c0f49d36eff2"
      },
      "execution_count": 7,
      "outputs": [
        {
          "output_type": "execute_result",
          "data": {
            "text/plain": [
              "<function matplotlib.pyplot.show>"
            ]
          },
          "metadata": {},
          "execution_count": 7
        },
        {
          "output_type": "display_data",
          "data": {
            "image/png": "[encoded data removed]",
            "text/plain": [
              "<Figure size 432x288 with 1 Axes>"
            ]
          },
          "metadata": {
            "needs_background": "light"
          }
        }
      ]
    },
    {
      "cell_type": "code",
      "source": [
        "model=Sequential()\n",
        "model.add(Dense(4,input_dim=2,activation='linear'))\n",
        "model.add(Dense(4,activation='linear'))\n",
        "model.add(Dense(1,activation='sigmoid'))\n",
        "model.compile(loss='binary_crossentropy',optimizer='adam',metrics=['accuracy'])\n",
        "model.summary()"
      ],
      "metadata": {
        "colab": {
          "base_uri": "https://localhost:8080/"
        },
        "id": "q9mSOJkAUhoH",
        "outputId": "4e3e9b46-9e85-42cb-f030-f85f093539ca"
      },
      "execution_count": 9,
      "outputs": [
        {
          "output_type": "stream",
          "name": "stdout",
          "text": [
            "Model: \"sequential_1\"\n",
            "_________________________________________________________________\n",
            " Layer (type)                Output Shape              Param #   \n",
            "=================================================================\n",
            " dense_3 (Dense)             (None, 4)                 12        \n",
            "                                                                 \n",
            " dense_4 (Dense)             (None, 4)                 20        \n",
            "                                                                 \n",
            " dense_5 (Dense)             (None, 1)                 5         \n",
            "                                                                 \n",
            "=================================================================\n",
            "Total params: 37\n",
            "Trainable params: 37\n",
            "Non-trainable params: 0\n",
            "_________________________________________________________________\n"
          ]
        }
      ]
    },
    {
      "cell_type": "code",
      "source": [
        "#print initial weights\n",
        "weights=model.layers[0].get_weights()\n",
        "w_init=weights[0]\n",
        "b_init=weights[1]\n",
        "print(\"Logistic regression model is initialized with weights-{} and biases-{}\".format(w_init,b_init))"
      ],
      "metadata": {
        "colab": {
          "base_uri": "https://localhost:8080/"
        },
        "id": "BoZmO5bdYOhy",
        "outputId": "8bfcff00-4d30-48ff-9c48-a6ba8d8d7afe"
      },
      "execution_count": 11,
      "outputs": [
        {
          "output_type": "stream",
          "name": "stdout",
          "text": [
            "Logistic regression model is initialized with weights-[[ 0.12561822  0.0159893   0.0852654  -0.8623359 ]\n",
            " [ 0.56704307 -0.3744068   0.10159159  0.18577671]] and biases-[0. 0. 0. 0.]\n"
          ]
        }
      ]
    },
    {
      "cell_type": "code",
      "source": [
        "history=model.fit(X_train,y_train,epochs=100,verbose=1,validation_split=0.2)"
      ],
      "metadata": {
        "colab": {
          "base_uri": "https://localhost:8080/"
        },
        "id": "4Tc7KK8Wc5F4",
        "outputId": "25316dd6-f738-4bcd-fc75-f74802914684"
      },
      "execution_count": 12,
      "outputs": [
        {
          "output_type": "stream",
          "name": "stdout",
          "text": [
            "Epoch 1/100\n",
            "4/4 [==============================] - 1s 151ms/step - loss: 0.6502 - accuracy: 0.4688 - val_loss: 0.6249 - val_accuracy: 0.5938\n",
            "Epoch 2/100\n",
            "4/4 [==============================] - 0s 12ms/step - loss: 0.6467 - accuracy: 0.4688 - val_loss: 0.6209 - val_accuracy: 0.6250\n",
            "Epoch 3/100\n",
            "4/4 [==============================] - 0s 9ms/step - loss: 0.6432 - accuracy: 0.4766 - val_loss: 0.6172 - val_accuracy: 0.6562\n",
            "Epoch 4/100\n",
            "4/4 [==============================] - 0s 9ms/step - loss: 0.6399 - accuracy: 0.4766 - val_loss: 0.6133 - val_accuracy: 0.6562\n",
            "Epoch 5/100\n",
            "4/4 [==============================] - 0s 11ms/step - loss: 0.6365 - accuracy: 0.4844 - val_loss: 0.6095 - val_accuracy: 0.6562\n",
            "Epoch 6/100\n",
            "4/4 [==============================] - 0s 9ms/step - loss: 0.6330 - accuracy: 0.4844 - val_loss: 0.6056 - val_accuracy: 0.6562\n",
            "Epoch 7/100\n",
            "4/4 [==============================] - 0s 10ms/step - loss: 0.6295 - accuracy: 0.4922 - val_loss: 0.6016 - val_accuracy: 0.6562\n",
            "Epoch 8/100\n",
            "4/4 [==============================] - 0s 10ms/step - loss: 0.6260 - accuracy: 0.5156 - val_loss: 0.5975 - val_accuracy: 0.6562\n",
            "Epoch 9/100\n",
            "4/4 [==============================] - 0s 10ms/step - loss: 0.6223 - accuracy: 0.5312 - val_loss: 0.5934 - val_accuracy: 0.6562\n",
            "Epoch 10/100\n",
            "4/4 [==============================] - 0s 10ms/step - loss: 0.6187 - accuracy: 0.5547 - val_loss: 0.5892 - val_accuracy: 0.6562\n",
            "Epoch 11/100\n",
            "4/4 [==============================] - 0s 11ms/step - loss: 0.6148 - accuracy: 0.6016 - val_loss: 0.5851 - val_accuracy: 0.6562\n",
            "Epoch 12/100\n",
            "4/4 [==============================] - 0s 12ms/step - loss: 0.6110 - accuracy: 0.6406 - val_loss: 0.5808 - val_accuracy: 0.7500\n",
            "Epoch 13/100\n",
            "4/4 [==============================] - 0s 10ms/step - loss: 0.6070 - accuracy: 0.6719 - val_loss: 0.5764 - val_accuracy: 0.8125\n",
            "Epoch 14/100\n",
            "4/4 [==============================] - 0s 10ms/step - loss: 0.6029 - accuracy: 0.7109 - val_loss: 0.5716 - val_accuracy: 0.8125\n",
            "Epoch 15/100\n",
            "4/4 [==============================] - 0s 14ms/step - loss: 0.5986 - accuracy: 0.7500 - val_loss: 0.5668 - val_accuracy: 0.8125\n",
            "Epoch 16/100\n",
            "4/4 [==============================] - 0s 12ms/step - loss: 0.5942 - accuracy: 0.7812 - val_loss: 0.5621 - val_accuracy: 0.8438\n",
            "Epoch 17/100\n",
            "4/4 [==============================] - 0s 10ms/step - loss: 0.5897 - accuracy: 0.8281 - val_loss: 0.5570 - val_accuracy: 0.8438\n",
            "Epoch 18/100\n",
            "4/4 [==============================] - 0s 10ms/step - loss: 0.5850 - accuracy: 0.8359 - val_loss: 0.5518 - val_accuracy: 0.8750\n",
            "Epoch 19/100\n",
            "4/4 [==============================] - 0s 11ms/step - loss: 0.5803 - accuracy: 0.8672 - val_loss: 0.5465 - val_accuracy: 0.8750\n",
            "Epoch 20/100\n",
            "4/4 [==============================] - 0s 11ms/step - loss: 0.5753 - accuracy: 0.8828 - val_loss: 0.5410 - val_accuracy: 0.8750\n",
            "Epoch 21/100\n",
            "4/4 [==============================] - 0s 10ms/step - loss: 0.5702 - accuracy: 0.8828 - val_loss: 0.5354 - val_accuracy: 0.9375\n",
            "Epoch 22/100\n",
            "4/4 [==============================] - 0s 11ms/step - loss: 0.5649 - accuracy: 0.9219 - val_loss: 0.5297 - val_accuracy: 0.9375\n",
            "Epoch 23/100\n",
            "4/4 [==============================] - 0s 12ms/step - loss: 0.5596 - accuracy: 0.9219 - val_loss: 0.5237 - val_accuracy: 0.9688\n",
            "Epoch 24/100\n",
            "4/4 [==============================] - 0s 13ms/step - loss: 0.5540 - accuracy: 0.9297 - val_loss: 0.5178 - val_accuracy: 1.0000\n",
            "Epoch 25/100\n",
            "4/4 [==============================] - 0s 9ms/step - loss: 0.5484 - accuracy: 0.9453 - val_loss: 0.5116 - val_accuracy: 1.0000\n",
            "Epoch 26/100\n",
            "4/4 [==============================] - 0s 12ms/step - loss: 0.5426 - accuracy: 0.9531 - val_loss: 0.5054 - val_accuracy: 1.0000\n",
            "Epoch 27/100\n",
            "4/4 [==============================] - 0s 9ms/step - loss: 0.5365 - accuracy: 0.9688 - val_loss: 0.4991 - val_accuracy: 1.0000\n",
            "Epoch 28/100\n",
            "4/4 [==============================] - 0s 9ms/step - loss: 0.5304 - accuracy: 0.9688 - val_loss: 0.4925 - val_accuracy: 1.0000\n",
            "Epoch 29/100\n",
            "4/4 [==============================] - 0s 10ms/step - loss: 0.5240 - accuracy: 0.9844 - val_loss: 0.4859 - val_accuracy: 1.0000\n",
            "Epoch 30/100\n",
            "4/4 [==============================] - 0s 10ms/step - loss: 0.5176 - accuracy: 0.9844 - val_loss: 0.4790 - val_accuracy: 1.0000\n",
            "Epoch 31/100\n",
            "4/4 [==============================] - 0s 13ms/step - loss: 0.5110 - accuracy: 0.9922 - val_loss: 0.4719 - val_accuracy: 1.0000\n",
            "Epoch 32/100\n",
            "4/4 [==============================] - 0s 10ms/step - loss: 0.5041 - accuracy: 0.9922 - val_loss: 0.4649 - val_accuracy: 1.0000\n",
            "Epoch 33/100\n",
            "4/4 [==============================] - 0s 10ms/step - loss: 0.4973 - accuracy: 0.9922 - val_loss: 0.4577 - val_accuracy: 1.0000\n",
            "Epoch 34/100\n",
            "4/4 [==============================] - 0s 11ms/step - loss: 0.4902 - accuracy: 0.9922 - val_loss: 0.4504 - val_accuracy: 1.0000\n",
            "Epoch 35/100\n",
            "4/4 [==============================] - 0s 10ms/step - loss: 0.4830 - accuracy: 0.9922 - val_loss: 0.4429 - val_accuracy: 1.0000\n",
            "Epoch 36/100\n",
            "4/4 [==============================] - 0s 11ms/step - loss: 0.4757 - accuracy: 0.9922 - val_loss: 0.4353 - val_accuracy: 1.0000\n",
            "Epoch 37/100\n",
            "4/4 [==============================] - 0s 12ms/step - loss: 0.4682 - accuracy: 1.0000 - val_loss: 0.4276 - val_accuracy: 1.0000\n",
            "Epoch 38/100\n",
            "4/4 [==============================] - 0s 11ms/step - loss: 0.4606 - accuracy: 1.0000 - val_loss: 0.4201 - val_accuracy: 1.0000\n",
            "Epoch 39/100\n",
            "4/4 [==============================] - 0s 10ms/step - loss: 0.4529 - accuracy: 1.0000 - val_loss: 0.4122 - val_accuracy: 1.0000\n",
            "Epoch 40/100\n",
            "4/4 [==============================] - 0s 10ms/step - loss: 0.4450 - accuracy: 1.0000 - val_loss: 0.4044 - val_accuracy: 1.0000\n",
            "Epoch 41/100\n",
            "4/4 [==============================] - 0s 11ms/step - loss: 0.4371 - accuracy: 1.0000 - val_loss: 0.3966 - val_accuracy: 1.0000\n",
            "Epoch 42/100\n",
            "4/4 [==============================] - 0s 9ms/step - loss: 0.4291 - accuracy: 1.0000 - val_loss: 0.3886 - val_accuracy: 1.0000\n",
            "Epoch 43/100\n",
            "4/4 [==============================] - 0s 9ms/step - loss: 0.4210 - accuracy: 1.0000 - val_loss: 0.3806 - val_accuracy: 1.0000\n",
            "Epoch 44/100\n",
            "4/4 [==============================] - 0s 11ms/step - loss: 0.4127 - accuracy: 1.0000 - val_loss: 0.3725 - val_accuracy: 1.0000\n",
            "Epoch 45/100\n",
            "4/4 [==============================] - 0s 12ms/step - loss: 0.4045 - accuracy: 1.0000 - val_loss: 0.3644 - val_accuracy: 1.0000\n",
            "Epoch 46/100\n",
            "4/4 [==============================] - 0s 10ms/step - loss: 0.3962 - accuracy: 1.0000 - val_loss: 0.3563 - val_accuracy: 1.0000\n",
            "Epoch 47/100\n",
            "4/4 [==============================] - 0s 11ms/step - loss: 0.3878 - accuracy: 1.0000 - val_loss: 0.3481 - val_accuracy: 1.0000\n",
            "Epoch 48/100\n",
            "4/4 [==============================] - 0s 10ms/step - loss: 0.3794 - accuracy: 1.0000 - val_loss: 0.3400 - val_accuracy: 1.0000\n",
            "Epoch 49/100\n",
            "4/4 [==============================] - 0s 10ms/step - loss: 0.3710 - accuracy: 1.0000 - val_loss: 0.3318 - val_accuracy: 1.0000\n",
            "Epoch 50/100\n",
            "4/4 [==============================] - 0s 10ms/step - loss: 0.3625 - accuracy: 1.0000 - val_loss: 0.3236 - val_accuracy: 1.0000\n",
            "Epoch 51/100\n",
            "4/4 [==============================] - 0s 10ms/step - loss: 0.3542 - accuracy: 1.0000 - val_loss: 0.3157 - val_accuracy: 1.0000\n",
            "Epoch 52/100\n",
            "4/4 [==============================] - 0s 10ms/step - loss: 0.3455 - accuracy: 1.0000 - val_loss: 0.3076 - val_accuracy: 1.0000\n",
            "Epoch 53/100\n",
            "4/4 [==============================] - 0s 10ms/step - loss: 0.3371 - accuracy: 1.0000 - val_loss: 0.2996 - val_accuracy: 1.0000\n",
            "Epoch 54/100\n",
            "4/4 [==============================] - 0s 9ms/step - loss: 0.3288 - accuracy: 1.0000 - val_loss: 0.2917 - val_accuracy: 1.0000\n",
            "Epoch 55/100\n",
            "4/4 [==============================] - 0s 11ms/step - loss: 0.3204 - accuracy: 1.0000 - val_loss: 0.2839 - val_accuracy: 1.0000\n",
            "Epoch 56/100\n",
            "4/4 [==============================] - 0s 10ms/step - loss: 0.3121 - accuracy: 1.0000 - val_loss: 0.2762 - val_accuracy: 1.0000\n",
            "Epoch 57/100\n",
            "4/4 [==============================] - 0s 12ms/step - loss: 0.3039 - accuracy: 1.0000 - val_loss: 0.2685 - val_accuracy: 1.0000\n",
            "Epoch 58/100\n",
            "4/4 [==============================] - 0s 11ms/step - loss: 0.2958 - accuracy: 1.0000 - val_loss: 0.2609 - val_accuracy: 1.0000\n",
            "Epoch 59/100\n",
            "4/4 [==============================] - 0s 13ms/step - loss: 0.2877 - accuracy: 1.0000 - val_loss: 0.2533 - val_accuracy: 1.0000\n",
            "Epoch 60/100\n",
            "4/4 [==============================] - 0s 10ms/step - loss: 0.2798 - accuracy: 1.0000 - val_loss: 0.2460 - val_accuracy: 1.0000\n",
            "Epoch 61/100\n",
            "4/4 [==============================] - 0s 10ms/step - loss: 0.2720 - accuracy: 1.0000 - val_loss: 0.2389 - val_accuracy: 1.0000\n",
            "Epoch 62/100\n",
            "4/4 [==============================] - 0s 10ms/step - loss: 0.2642 - accuracy: 1.0000 - val_loss: 0.2318 - val_accuracy: 1.0000\n",
            "Epoch 63/100\n",
            "4/4 [==============================] - 0s 10ms/step - loss: 0.2566 - accuracy: 1.0000 - val_loss: 0.2249 - val_accuracy: 1.0000\n",
            "Epoch 64/100\n",
            "4/4 [==============================] - 0s 10ms/step - loss: 0.2490 - accuracy: 1.0000 - val_loss: 0.2180 - val_accuracy: 1.0000\n",
            "Epoch 65/100\n",
            "4/4 [==============================] - 0s 15ms/step - loss: 0.2417 - accuracy: 1.0000 - val_loss: 0.2113 - val_accuracy: 1.0000\n",
            "Epoch 66/100\n",
            "4/4 [==============================] - 0s 9ms/step - loss: 0.2344 - accuracy: 1.0000 - val_loss: 0.2047 - val_accuracy: 1.0000\n",
            "Epoch 67/100\n",
            "4/4 [==============================] - 0s 11ms/step - loss: 0.2275 - accuracy: 1.0000 - val_loss: 0.1984 - val_accuracy: 1.0000\n",
            "Epoch 68/100\n",
            "4/4 [==============================] - 0s 10ms/step - loss: 0.2203 - accuracy: 1.0000 - val_loss: 0.1921 - val_accuracy: 1.0000\n",
            "Epoch 69/100\n",
            "4/4 [==============================] - 0s 9ms/step - loss: 0.2137 - accuracy: 1.0000 - val_loss: 0.1861 - val_accuracy: 1.0000\n",
            "Epoch 70/100\n",
            "4/4 [==============================] - 0s 10ms/step - loss: 0.2070 - accuracy: 1.0000 - val_loss: 0.1801 - val_accuracy: 1.0000\n",
            "Epoch 71/100\n",
            "4/4 [==============================] - 0s 16ms/step - loss: 0.2006 - accuracy: 1.0000 - val_loss: 0.1743 - val_accuracy: 1.0000\n",
            "Epoch 72/100\n",
            "4/4 [==============================] - 0s 10ms/step - loss: 0.1943 - accuracy: 1.0000 - val_loss: 0.1687 - val_accuracy: 1.0000\n",
            "Epoch 73/100\n",
            "4/4 [==============================] - 0s 10ms/step - loss: 0.1882 - accuracy: 1.0000 - val_loss: 0.1632 - val_accuracy: 1.0000\n",
            "Epoch 74/100\n",
            "4/4 [==============================] - 0s 12ms/step - loss: 0.1822 - accuracy: 1.0000 - val_loss: 0.1579 - val_accuracy: 1.0000\n",
            "Epoch 75/100\n",
            "4/4 [==============================] - 0s 11ms/step - loss: 0.1764 - accuracy: 1.0000 - val_loss: 0.1527 - val_accuracy: 1.0000\n",
            "Epoch 76/100\n",
            "4/4 [==============================] - 0s 12ms/step - loss: 0.1707 - accuracy: 1.0000 - val_loss: 0.1477 - val_accuracy: 1.0000\n",
            "Epoch 77/100\n",
            "4/4 [==============================] - 0s 9ms/step - loss: 0.1654 - accuracy: 1.0000 - val_loss: 0.1429 - val_accuracy: 1.0000\n",
            "Epoch 78/100\n",
            "4/4 [==============================] - 0s 9ms/step - loss: 0.1600 - accuracy: 1.0000 - val_loss: 0.1382 - val_accuracy: 1.0000\n",
            "Epoch 79/100\n",
            "4/4 [==============================] - 0s 11ms/step - loss: 0.1549 - accuracy: 1.0000 - val_loss: 0.1337 - val_accuracy: 1.0000\n",
            "Epoch 80/100\n",
            "4/4 [==============================] - 0s 10ms/step - loss: 0.1500 - accuracy: 1.0000 - val_loss: 0.1294 - val_accuracy: 1.0000\n",
            "Epoch 81/100\n",
            "4/4 [==============================] - 0s 10ms/step - loss: 0.1451 - accuracy: 1.0000 - val_loss: 0.1252 - val_accuracy: 1.0000\n",
            "Epoch 82/100\n",
            "4/4 [==============================] - 0s 10ms/step - loss: 0.1405 - accuracy: 1.0000 - val_loss: 0.1211 - val_accuracy: 1.0000\n",
            "Epoch 83/100\n",
            "4/4 [==============================] - 0s 14ms/step - loss: 0.1360 - accuracy: 1.0000 - val_loss: 0.1171 - val_accuracy: 1.0000\n",
            "Epoch 84/100\n",
            "4/4 [==============================] - 0s 11ms/step - loss: 0.1316 - accuracy: 1.0000 - val_loss: 0.1133 - val_accuracy: 1.0000\n",
            "Epoch 85/100\n",
            "4/4 [==============================] - 0s 10ms/step - loss: 0.1275 - accuracy: 1.0000 - val_loss: 0.1097 - val_accuracy: 1.0000\n",
            "Epoch 86/100\n",
            "4/4 [==============================] - 0s 10ms/step - loss: 0.1233 - accuracy: 1.0000 - val_loss: 0.1061 - val_accuracy: 1.0000\n",
            "Epoch 87/100\n",
            "4/4 [==============================] - 0s 11ms/step - loss: 0.1195 - accuracy: 1.0000 - val_loss: 0.1027 - val_accuracy: 1.0000\n",
            "Epoch 88/100\n",
            "4/4 [==============================] - 0s 10ms/step - loss: 0.1158 - accuracy: 1.0000 - val_loss: 0.0994 - val_accuracy: 1.0000\n",
            "Epoch 89/100\n",
            "4/4 [==============================] - 0s 12ms/step - loss: 0.1121 - accuracy: 1.0000 - val_loss: 0.0962 - val_accuracy: 1.0000\n",
            "Epoch 90/100\n",
            "4/4 [==============================] - 0s 10ms/step - loss: 0.1086 - accuracy: 1.0000 - val_loss: 0.0932 - val_accuracy: 1.0000\n",
            "Epoch 91/100\n",
            "4/4 [==============================] - 0s 10ms/step - loss: 0.1052 - accuracy: 1.0000 - val_loss: 0.0902 - val_accuracy: 1.0000\n",
            "Epoch 92/100\n",
            "4/4 [==============================] - 0s 11ms/step - loss: 0.1019 - accuracy: 1.0000 - val_loss: 0.0874 - val_accuracy: 1.0000\n",
            "Epoch 93/100\n",
            "4/4 [==============================] - 0s 11ms/step - loss: 0.0988 - accuracy: 1.0000 - val_loss: 0.0846 - val_accuracy: 1.0000\n",
            "Epoch 94/100\n",
            "4/4 [==============================] - 0s 10ms/step - loss: 0.0957 - accuracy: 1.0000 - val_loss: 0.0820 - val_accuracy: 1.0000\n",
            "Epoch 95/100\n",
            "4/4 [==============================] - 0s 10ms/step - loss: 0.0929 - accuracy: 1.0000 - val_loss: 0.0795 - val_accuracy: 1.0000\n",
            "Epoch 96/100\n",
            "4/4 [==============================] - 0s 9ms/step - loss: 0.0901 - accuracy: 1.0000 - val_loss: 0.0770 - val_accuracy: 1.0000\n",
            "Epoch 97/100\n",
            "4/4 [==============================] - 0s 10ms/step - loss: 0.0874 - accuracy: 1.0000 - val_loss: 0.0747 - val_accuracy: 1.0000\n",
            "Epoch 98/100\n",
            "4/4 [==============================] - 0s 10ms/step - loss: 0.0847 - accuracy: 1.0000 - val_loss: 0.0724 - val_accuracy: 1.0000\n",
            "Epoch 99/100\n",
            "4/4 [==============================] - 0s 11ms/step - loss: 0.0822 - accuracy: 1.0000 - val_loss: 0.0703 - val_accuracy: 1.0000\n",
            "Epoch 100/100\n",
            "4/4 [==============================] - 0s 10ms/step - loss: 0.0798 - accuracy: 1.0000 - val_loss: 0.0681 - val_accuracy: 1.0000\n"
          ]
        }
      ]
    },
    {
      "cell_type": "code",
      "source": [
        "model.predict(X_test) #probablities, u can put a threshold >0.5"
      ],
      "metadata": {
        "colab": {
          "base_uri": "https://localhost:8080/"
        },
        "id": "dO0Edlr6nGyG",
        "outputId": "c7070777-623f-4f64-dc38-fa72752e54a5"
      },
      "execution_count": 18,
      "outputs": [
        {
          "output_type": "execute_result",
          "data": {
            "text/plain": [
              "array([[0.8997978 ],\n",
              "       [0.05390739],\n",
              "       [0.9324404 ],\n",
              "       [0.9414646 ],\n",
              "       [0.08124372],\n",
              "       [0.04625663],\n",
              "       [0.89307845],\n",
              "       [0.8193536 ],\n",
              "       [0.03728271],\n",
              "       [0.04704931],\n",
              "       [0.94937396],\n",
              "       [0.07263708],\n",
              "       [0.08851787],\n",
              "       [0.02736652],\n",
              "       [0.06200972],\n",
              "       [0.91309243],\n",
              "       [0.05709085],\n",
              "       [0.07262382],\n",
              "       [0.04314196],\n",
              "       [0.8591121 ],\n",
              "       [0.03912717],\n",
              "       [0.9241599 ],\n",
              "       [0.05996692],\n",
              "       [0.04141435],\n",
              "       [0.04288262],\n",
              "       [0.86138976],\n",
              "       [0.89207965],\n",
              "       [0.8481931 ],\n",
              "       [0.9065064 ],\n",
              "       [0.04146978],\n",
              "       [0.9285557 ],\n",
              "       [0.91423035],\n",
              "       [0.05659592],\n",
              "       [0.8726784 ],\n",
              "       [0.8645166 ],\n",
              "       [0.8694118 ],\n",
              "       [0.05002785],\n",
              "       [0.06438842],\n",
              "       [0.91572016],\n",
              "       [0.03495604]], dtype=float32)"
            ]
          },
          "metadata": {},
          "execution_count": 18
        }
      ]
    },
    {
      "cell_type": "code",
      "source": [
        "from sklearn.metrics import precision_score,recall_score,roc_auc_score,accuracy_score"
      ],
      "metadata": {
        "id": "XPrWgeMNn4nr"
      },
      "execution_count": 22,
      "outputs": []
    },
    {
      "cell_type": "code",
      "source": [
        "accuracy_score(y_test, model.predict(X_test)>0.5)"
      ],
      "metadata": {
        "colab": {
          "base_uri": "https://localhost:8080/"
        },
        "id": "oQpq7Zjtn5EQ",
        "outputId": "aa2c1caa-638c-4071-fa1e-8cdc8a3fe18f"
      },
      "execution_count": 25,
      "outputs": [
        {
          "output_type": "execute_result",
          "data": {
            "text/plain": [
              "1.0"
            ]
          },
          "metadata": {},
          "execution_count": 25
        }
      ]
    },
    {
      "cell_type": "code",
      "source": [
        "#Evaluate the Model\n",
        "print('\\ntesting----------')\n",
        "cost=model.evaluate(X_test,y_test,batch_size=40)\n",
        "print('testcost:',cost)\n",
        "weights=model.layers[0].get_weights()\n",
        "W=weights[0]\n",
        "b=weights[1]\n",
        "print('weights=', W,  '\\nbiases=',b)"
      ],
      "metadata": {
        "colab": {
          "base_uri": "https://localhost:8080/"
        },
        "id": "iTXYmUDQflTZ",
        "outputId": "bee625fe-1fff-47ac-fecb-7970496925a9"
      },
      "execution_count": 17,
      "outputs": [
        {
          "output_type": "stream",
          "name": "stdout",
          "text": [
            "\n",
            "testing----------\n",
            "1/1 [==============================] - 0s 111ms/step - loss: 0.0819 - accuracy: 1.0000\n",
            "testcost: [0.08188315480947495, 1.0]\n",
            "weights= [[ 0.45667544 -0.42294636  0.3897121  -1.2686338 ]\n",
            " [ 0.88899523 -0.8018515   0.3973217  -0.20924751]] \n",
            "biases= [-0.38613367  0.4705492  -0.36680505  0.4470497 ]\n"
          ]
        }
      ]
    },
    {
      "cell_type": "code",
      "source": [
        ""
      ],
      "metadata": {
        "id": "T_sRBSsAm0no"
      },
      "execution_count": null,
      "outputs": []
    }
  ]
}
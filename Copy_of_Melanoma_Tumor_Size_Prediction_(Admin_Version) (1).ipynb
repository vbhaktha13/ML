{
  "nbformat": 4,
  "nbformat_minor": 0,
  "metadata": {
    "colab": {
      "name": "Copy of Melanoma Tumor Size Prediction (Admin Version).ipynb",
      "provenance": [],
      "collapsed_sections": []
    },
    "kernelspec": {
      "display_name": "Python 3",
      "name": "python3"
    }
  },
  "cells": [
    {
      "cell_type": "markdown",
      "metadata": {
        "id": "zzAFl4816OLU"
      },
      "source": [
        "<a id=section2></a>\n",
        "## 2. Importing Packages"
      ]
    },
    {
      "cell_type": "code",
      "metadata": {
        "colab": {
          "base_uri": "https://localhost:8080/",
          "height": 498
        },
        "id": "Cri2YEZA6tIH",
        "outputId": "c5f7803f-5f49-43fd-a4d5-578ada3e43ae"
      },
      "source": [
        "# To use some functions from tensorflow_docs\n",
        "!pip install git+https://github.com/tensorflow/docs"
      ],
      "execution_count": null,
      "outputs": [
        {
          "output_type": "stream",
          "text": [
            "Collecting git+https://github.com/tensorflow/docs\n",
            "  Cloning https://github.com/tensorflow/docs to /tmp/pip-req-build-sujqd4ub\n",
            "  Running command git clone -q https://github.com/tensorflow/docs /tmp/pip-req-build-sujqd4ub\n",
            "Requirement already satisfied: astor in /usr/local/lib/python3.6/dist-packages (from tensorflow-docs===0.0.0b5de8b6909eadaaa5c4854d80ed8e75afd3083a4-) (0.8.1)\n",
            "Requirement already satisfied: absl-py in /usr/local/lib/python3.6/dist-packages (from tensorflow-docs===0.0.0b5de8b6909eadaaa5c4854d80ed8e75afd3083a4-) (0.10.0)\n",
            "Collecting protobuf>=3.14\n",
            "\u001b[?25l  Downloading https://files.pythonhosted.org/packages/fe/fd/247ef25f5ec5f9acecfbc98ca3c6aaf66716cf52509aca9a93583d410493/protobuf-3.14.0-cp36-cp36m-manylinux1_x86_64.whl (1.0MB)\n",
            "\u001b[K     |████████████████████████████████| 1.0MB 6.7MB/s \n",
            "\u001b[?25hRequirement already satisfied: pyyaml in /usr/local/lib/python3.6/dist-packages (from tensorflow-docs===0.0.0b5de8b6909eadaaa5c4854d80ed8e75afd3083a4-) (3.13)\n",
            "Requirement already satisfied: dataclasses in /usr/local/lib/python3.6/dist-packages (from tensorflow-docs===0.0.0b5de8b6909eadaaa5c4854d80ed8e75afd3083a4-) (0.8)\n",
            "Requirement already satisfied: six in /usr/local/lib/python3.6/dist-packages (from absl-py->tensorflow-docs===0.0.0b5de8b6909eadaaa5c4854d80ed8e75afd3083a4-) (1.15.0)\n",
            "Building wheels for collected packages: tensorflow-docs\n",
            "  Building wheel for tensorflow-docs (setup.py) ... \u001b[?25l\u001b[?25hdone\n",
            "  Created wheel for tensorflow-docs: filename=tensorflow_docs-0.0.0b5de8b6909eadaaa5c4854d80ed8e75afd3083a4_-cp36-none-any.whl size=146329 sha256=adc48f64a18a9562914abbac5cdc92bdaae2c49577a5ffbdca5902b619efa2a7\n",
            "  Stored in directory: /tmp/pip-ephem-wheel-cache-caffnhyi/wheels/eb/1b/35/fce87697be00d2fc63e0b4b395b0d9c7e391a10e98d9a0d97f\n",
            "Successfully built tensorflow-docs\n",
            "Installing collected packages: protobuf, tensorflow-docs\n",
            "  Found existing installation: protobuf 3.12.4\n",
            "    Uninstalling protobuf-3.12.4:\n",
            "      Successfully uninstalled protobuf-3.12.4\n",
            "Successfully installed protobuf-3.14.0 tensorflow-docs-0.0.0b5de8b6909eadaaa5c4854d80ed8e75afd3083a4-\n"
          ],
          "name": "stdout"
        },
        {
          "output_type": "display_data",
          "data": {
            "application/vnd.colab-display-data+json": {
              "pip_warning": {
                "packages": [
                  "google"
                ]
              }
            }
          },
          "metadata": {
            "tags": []
          }
        }
      ]
    },
    {
      "cell_type": "code",
      "metadata": {
        "id": "f9lPzxZz3LLv",
        "colab": {
          "base_uri": "https://localhost:8080/"
        },
        "outputId": "f955b2d8-2b4f-46da-d687-96ca6be0a17a"
      },
      "source": [
        "import numpy as np\n",
        "import pandas as pd\n",
        "\n",
        "import seaborn as sns\n",
        "import matplotlib.pyplot as plt\n",
        "%matplotlib inline\n",
        "from sklearn.preprocessing import StandardScaler\n",
        "from sklearn.model_selection import train_test_split, cross_val_score\n",
        "from sklearn.metrics import mean_squared_error, mean_absolute_error, r2_score\n",
        "# Import tensorflow 2.x\n",
        "# This code block will only work in Google Colab.\n",
        "try:\n",
        "    # %tensorflow_version only exists in Colab.\n",
        "    %tensorflow_version 2.x\n",
        "except Exception:\n",
        "    pass\n",
        "import tensorflow as tf\n",
        "\n",
        "from tensorflow import keras\n",
        "from tensorflow.keras import layers\n",
        "\n",
        "print(tf.__version__)\n",
        "import tensorflow_docs as tfdocs\n",
        "import tensorflow_docs.plots\n",
        "import tensorflow_docs.modeling"
      ],
      "execution_count": null,
      "outputs": [
        {
          "output_type": "stream",
          "text": [
            "2.3.0\n"
          ],
          "name": "stdout"
        }
      ]
    },
    {
      "cell_type": "markdown",
      "metadata": {
        "id": "6PFm3jkg4VD6"
      },
      "source": [
        "<a id=section3></a>\n",
        "## 3. Loading Data"
      ]
    },
    {
      "cell_type": "code",
      "metadata": {
        "id": "dNsl0aaz3j8w",
        "colab": {
          "base_uri": "https://localhost:8080/",
          "height": 214
        },
        "outputId": "2d674756-e6fe-421e-c620-3ab84a78d900"
      },
      "source": [
        "tumor_train = pd.read_csv('tumor_train.csv')\n",
        "tumor_train.head()"
      ],
      "execution_count": null,
      "outputs": [
        {
          "output_type": "execute_result",
          "data": {
            "text/html": [
              "<div>\n",
              "<style scoped>\n",
              "    .dataframe tbody tr th:only-of-type {\n",
              "        vertical-align: middle;\n",
              "    }\n",
              "\n",
              "    .dataframe tbody tr th {\n",
              "        vertical-align: top;\n",
              "    }\n",
              "\n",
              "    .dataframe thead th {\n",
              "        text-align: right;\n",
              "    }\n",
              "</style>\n",
              "<table border=\"1\" class=\"dataframe\">\n",
              "  <thead>\n",
              "    <tr style=\"text-align: right;\">\n",
              "      <th></th>\n",
              "      <th>Id</th>\n",
              "      <th>mass_npea</th>\n",
              "      <th>size_npear</th>\n",
              "      <th>malign_ratio</th>\n",
              "      <th>damage_size</th>\n",
              "      <th>exposed_area</th>\n",
              "      <th>std_dev_malign</th>\n",
              "      <th>err_malign</th>\n",
              "      <th>malign_penalty</th>\n",
              "      <th>damage_ratio</th>\n",
              "      <th>tumor_size</th>\n",
              "    </tr>\n",
              "  </thead>\n",
              "  <tbody>\n",
              "    <tr>\n",
              "      <th>0</th>\n",
              "      <td>2484</td>\n",
              "      <td>8966.25</td>\n",
              "      <td>2290.10</td>\n",
              "      <td>0.25541</td>\n",
              "      <td>86.3614</td>\n",
              "      <td>1.210154e+06</td>\n",
              "      <td>123.099</td>\n",
              "      <td>3801.09</td>\n",
              "      <td>37</td>\n",
              "      <td>35.3347</td>\n",
              "      <td>2.040</td>\n",
              "    </tr>\n",
              "    <tr>\n",
              "      <th>1</th>\n",
              "      <td>7971</td>\n",
              "      <td>23451.80</td>\n",
              "      <td>5523.74</td>\n",
              "      <td>0.23553</td>\n",
              "      <td>318.7650</td>\n",
              "      <td>3.230021e+06</td>\n",
              "      <td>400.988</td>\n",
              "      <td>6233.68</td>\n",
              "      <td>154</td>\n",
              "      <td>19.8012</td>\n",
              "      <td>0.950</td>\n",
              "    </tr>\n",
              "    <tr>\n",
              "      <th>2</th>\n",
              "      <td>5808</td>\n",
              "      <td>9943.24</td>\n",
              "      <td>3395.25</td>\n",
              "      <td>0.34146</td>\n",
              "      <td>119.6230</td>\n",
              "      <td>1.314472e+06</td>\n",
              "      <td>182.907</td>\n",
              "      <td>4458.68</td>\n",
              "      <td>182</td>\n",
              "      <td>29.5710</td>\n",
              "      <td>1.383</td>\n",
              "    </tr>\n",
              "    <tr>\n",
              "      <th>3</th>\n",
              "      <td>3944</td>\n",
              "      <td>9217.15</td>\n",
              "      <td>1679.83</td>\n",
              "      <td>0.18225</td>\n",
              "      <td>89.1005</td>\n",
              "      <td>1.315326e+06</td>\n",
              "      <td>126.542</td>\n",
              "      <td>4173.45</td>\n",
              "      <td>43</td>\n",
              "      <td>32.0433</td>\n",
              "      <td>0.745</td>\n",
              "    </tr>\n",
              "    <tr>\n",
              "      <th>4</th>\n",
              "      <td>2304</td>\n",
              "      <td>12920.00</td>\n",
              "      <td>4785.19</td>\n",
              "      <td>0.37037</td>\n",
              "      <td>170.0430</td>\n",
              "      <td>1.773571e+06</td>\n",
              "      <td>203.413</td>\n",
              "      <td>4901.15</td>\n",
              "      <td>161</td>\n",
              "      <td>28.0393</td>\n",
              "      <td>6.830</td>\n",
              "    </tr>\n",
              "  </tbody>\n",
              "</table>\n",
              "</div>"
            ],
            "text/plain": [
              "     Id  mass_npea  size_npear  ...  malign_penalty  damage_ratio  tumor_size\n",
              "0  2484    8966.25     2290.10  ...              37       35.3347       2.040\n",
              "1  7971   23451.80     5523.74  ...             154       19.8012       0.950\n",
              "2  5808    9943.24     3395.25  ...             182       29.5710       1.383\n",
              "3  3944    9217.15     1679.83  ...              43       32.0433       0.745\n",
              "4  2304   12920.00     4785.19  ...             161       28.0393       6.830\n",
              "\n",
              "[5 rows x 11 columns]"
            ]
          },
          "metadata": {
            "tags": []
          },
          "execution_count": 3
        }
      ]
    },
    {
      "cell_type": "code",
      "metadata": {
        "id": "WIZS513F4pQU",
        "colab": {
          "base_uri": "https://localhost:8080/",
          "height": 214
        },
        "outputId": "d6d45a21-6081-4f9d-b5fd-3148a7c97d3b"
      },
      "source": [
        "tumor_test = pd.read_csv('tumor_test.csv')\n",
        "tumor_test.head()"
      ],
      "execution_count": null,
      "outputs": [
        {
          "output_type": "execute_result",
          "data": {
            "text/html": [
              "<div>\n",
              "<style scoped>\n",
              "    .dataframe tbody tr th:only-of-type {\n",
              "        vertical-align: middle;\n",
              "    }\n",
              "\n",
              "    .dataframe tbody tr th {\n",
              "        vertical-align: top;\n",
              "    }\n",
              "\n",
              "    .dataframe thead th {\n",
              "        text-align: right;\n",
              "    }\n",
              "</style>\n",
              "<table border=\"1\" class=\"dataframe\">\n",
              "  <thead>\n",
              "    <tr style=\"text-align: right;\">\n",
              "      <th></th>\n",
              "      <th>Id</th>\n",
              "      <th>mass_npea</th>\n",
              "      <th>size_npear</th>\n",
              "      <th>malign_ratio</th>\n",
              "      <th>damage_size</th>\n",
              "      <th>exposed_area</th>\n",
              "      <th>std_dev_malign</th>\n",
              "      <th>err_malign</th>\n",
              "      <th>malign_penalty</th>\n",
              "      <th>damage_ratio</th>\n",
              "    </tr>\n",
              "  </thead>\n",
              "  <tbody>\n",
              "    <tr>\n",
              "      <th>0</th>\n",
              "      <td>1962</td>\n",
              "      <td>9442.86</td>\n",
              "      <td>2608.70</td>\n",
              "      <td>0.27626</td>\n",
              "      <td>76.0109</td>\n",
              "      <td>1.283025e+06</td>\n",
              "      <td>119.600</td>\n",
              "      <td>4284.97</td>\n",
              "      <td>54</td>\n",
              "      <td>33.7830</td>\n",
              "    </tr>\n",
              "    <tr>\n",
              "      <th>1</th>\n",
              "      <td>7018</td>\n",
              "      <td>10488.60</td>\n",
              "      <td>2389.16</td>\n",
              "      <td>0.22778</td>\n",
              "      <td>123.7160</td>\n",
              "      <td>1.431194e+06</td>\n",
              "      <td>146.515</td>\n",
              "      <td>3638.58</td>\n",
              "      <td>13</td>\n",
              "      <td>34.7684</td>\n",
              "    </tr>\n",
              "    <tr>\n",
              "      <th>2</th>\n",
              "      <td>711</td>\n",
              "      <td>14648.60</td>\n",
              "      <td>4799.59</td>\n",
              "      <td>0.32764</td>\n",
              "      <td>172.1850</td>\n",
              "      <td>2.009699e+06</td>\n",
              "      <td>257.127</td>\n",
              "      <td>4864.58</td>\n",
              "      <td>29</td>\n",
              "      <td>29.0607</td>\n",
              "    </tr>\n",
              "    <tr>\n",
              "      <th>3</th>\n",
              "      <td>3443</td>\n",
              "      <td>15068.60</td>\n",
              "      <td>3005.83</td>\n",
              "      <td>0.19947</td>\n",
              "      <td>195.6130</td>\n",
              "      <td>2.079564e+06</td>\n",
              "      <td>246.238</td>\n",
              "      <td>5105.25</td>\n",
              "      <td>178</td>\n",
              "      <td>25.4230</td>\n",
              "    </tr>\n",
              "    <tr>\n",
              "      <th>4</th>\n",
              "      <td>7087</td>\n",
              "      <td>10101.70</td>\n",
              "      <td>3469.03</td>\n",
              "      <td>0.34341</td>\n",
              "      <td>96.0650</td>\n",
              "      <td>1.435378e+06</td>\n",
              "      <td>135.567</td>\n",
              "      <td>4604.39</td>\n",
              "      <td>105</td>\n",
              "      <td>30.7345</td>\n",
              "    </tr>\n",
              "  </tbody>\n",
              "</table>\n",
              "</div>"
            ],
            "text/plain": [
              "     Id  mass_npea  size_npear  ...  err_malign  malign_penalty  damage_ratio\n",
              "0  1962    9442.86     2608.70  ...     4284.97              54       33.7830\n",
              "1  7018   10488.60     2389.16  ...     3638.58              13       34.7684\n",
              "2   711   14648.60     4799.59  ...     4864.58              29       29.0607\n",
              "3  3443   15068.60     3005.83  ...     5105.25             178       25.4230\n",
              "4  7087   10101.70     3469.03  ...     4604.39             105       30.7345\n",
              "\n",
              "[5 rows x 10 columns]"
            ]
          },
          "metadata": {
            "tags": []
          },
          "execution_count": 4
        }
      ]
    },
    {
      "cell_type": "markdown",
      "metadata": {
        "id": "u7oORnLv6chi"
      },
      "source": [
        "<a id=section301></a>\n",
        "### 3.1 Description of the Dataset"
      ]
    },
    {
      "cell_type": "markdown",
      "metadata": {
        "id": "N45_G97C6dth"
      },
      "source": [
        "- The dataset contains all the necessary **information** about the area where the tumour is situated.\n",
        "\n",
        "\n",
        "-  The dataset also contain the column **tumor_size** which tells us the size of the melanoma tumor. \n",
        "\n",
        "\n",
        "\n",
        "| Column Name        | Description                                               |\n",
        "| -------------      |:-------------                                            :| \n",
        "| Id         |Unique Id of the sample.                                | \n",
        "|mass_npea            | The mass of the area understudy for melanoma tumor.                        |  \n",
        "| size_npear    | The size of the area understudy for melanoma tumor.                                           | \n",
        "|malign_ratio         | Ration of normal to malign surface understudy.                                        |   \n",
        "| damage_size        |  Unrecoverable area of skin damaged by the tumor.                                      |\n",
        "|exposed_area            |Total area exposed to the tumor.                                            |\n",
        "|std_dev_malign     |  Standard deviation of malign skin measurements.\n",
        "|err_malign     |  Error in malign skin measurements\n",
        "|malign_penalty      |  penalty applied due to measurement error in the lab.\n",
        "|damage_ratio      |  Tthe ratio of damage to total spread on the skin.\n",
        "|tumor_size      |  Size of melanoma_tumor."
      ]
    },
    {
      "cell_type": "code",
      "metadata": {
        "id": "REyBjT5K4yD5",
        "colab": {
          "base_uri": "https://localhost:8080/"
        },
        "outputId": "48f6a620-9178-40b3-abd8-09481c63fd1b"
      },
      "source": [
        "tumor_train.info()"
      ],
      "execution_count": null,
      "outputs": [
        {
          "output_type": "stream",
          "text": [
            "<class 'pandas.core.frame.DataFrame'>\n",
            "RangeIndex: 7316 entries, 0 to 7315\n",
            "Data columns (total 11 columns):\n",
            " #   Column          Non-Null Count  Dtype  \n",
            "---  ------          --------------  -----  \n",
            " 0   Id              7316 non-null   int64  \n",
            " 1   mass_npea       7316 non-null   float64\n",
            " 2   size_npear      7316 non-null   float64\n",
            " 3   malign_ratio    7316 non-null   float64\n",
            " 4   damage_size     7316 non-null   float64\n",
            " 5   exposed_area    7316 non-null   float64\n",
            " 6   std_dev_malign  7316 non-null   float64\n",
            " 7   err_malign      7316 non-null   float64\n",
            " 8   malign_penalty  7316 non-null   int64  \n",
            " 9   damage_ratio    7316 non-null   float64\n",
            " 10  tumor_size      7316 non-null   float64\n",
            "dtypes: float64(9), int64(2)\n",
            "memory usage: 628.8 KB\n"
          ],
          "name": "stdout"
        }
      ]
    },
    {
      "cell_type": "code",
      "metadata": {
        "id": "gqFeOqWl6tH5",
        "colab": {
          "base_uri": "https://localhost:8080/"
        },
        "outputId": "4b462806-4a8e-492a-a8dc-44d8c7080e81"
      },
      "source": [
        "tumor_test.info()"
      ],
      "execution_count": null,
      "outputs": [
        {
          "output_type": "stream",
          "text": [
            "<class 'pandas.core.frame.DataFrame'>\n",
            "RangeIndex: 1830 entries, 0 to 1829\n",
            "Data columns (total 10 columns):\n",
            " #   Column          Non-Null Count  Dtype  \n",
            "---  ------          --------------  -----  \n",
            " 0   Id              1830 non-null   int64  \n",
            " 1   mass_npea       1830 non-null   float64\n",
            " 2   size_npear      1830 non-null   float64\n",
            " 3   malign_ratio    1830 non-null   float64\n",
            " 4   damage_size     1830 non-null   float64\n",
            " 5   exposed_area    1830 non-null   float64\n",
            " 6   std_dev_malign  1830 non-null   float64\n",
            " 7   err_malign      1830 non-null   float64\n",
            " 8   malign_penalty  1830 non-null   int64  \n",
            " 9   damage_ratio    1830 non-null   float64\n",
            "dtypes: float64(8), int64(2)\n",
            "memory usage: 143.1 KB\n"
          ],
          "name": "stdout"
        }
      ]
    },
    {
      "cell_type": "markdown",
      "metadata": {
        "id": "Gpvod5rW6qP9"
      },
      "source": [
        "**Observation**\n",
        "\n",
        "  - The train set has **7316 samples (rows)** and **11 columns**.\n",
        "\n",
        "  - The test set has **1830 samples** and **10 columns**.\n",
        "  \n",
        "  - There are **11 columns** with a **numeric** datatype \n",
        "  \n",
        "  - There are **0 missing** values in the data."
      ]
    },
    {
      "cell_type": "code",
      "metadata": {
        "id": "o6aAgUvO6jYJ",
        "colab": {
          "base_uri": "https://localhost:8080/",
          "height": 370
        },
        "outputId": "955d5b96-6600-4158-aa94-e621a221ae35"
      },
      "source": [
        "tumor_train.describe().T"
      ],
      "execution_count": null,
      "outputs": [
        {
          "output_type": "execute_result",
          "data": {
            "text/html": [
              "<div>\n",
              "<style scoped>\n",
              "    .dataframe tbody tr th:only-of-type {\n",
              "        vertical-align: middle;\n",
              "    }\n",
              "\n",
              "    .dataframe tbody tr th {\n",
              "        vertical-align: top;\n",
              "    }\n",
              "\n",
              "    .dataframe thead th {\n",
              "        text-align: right;\n",
              "    }\n",
              "</style>\n",
              "<table border=\"1\" class=\"dataframe\">\n",
              "  <thead>\n",
              "    <tr style=\"text-align: right;\">\n",
              "      <th></th>\n",
              "      <th>count</th>\n",
              "      <th>mean</th>\n",
              "      <th>std</th>\n",
              "      <th>min</th>\n",
              "      <th>25%</th>\n",
              "      <th>50%</th>\n",
              "      <th>75%</th>\n",
              "      <th>max</th>\n",
              "    </tr>\n",
              "  </thead>\n",
              "  <tbody>\n",
              "    <tr>\n",
              "      <th>Id</th>\n",
              "      <td>7316.0</td>\n",
              "      <td>4.572896e+03</td>\n",
              "      <td>2634.666726</td>\n",
              "      <td>1.00000</td>\n",
              "      <td>2298.750000</td>\n",
              "      <td>4.561500e+03</td>\n",
              "      <td>6.850250e+03</td>\n",
              "      <td>9.145000e+03</td>\n",
              "    </tr>\n",
              "    <tr>\n",
              "      <th>mass_npea</th>\n",
              "      <td>7316.0</td>\n",
              "      <td>9.903204e+03</td>\n",
              "      <td>4035.017571</td>\n",
              "      <td>2864.76000</td>\n",
              "      <td>6983.410000</td>\n",
              "      <td>8.894730e+03</td>\n",
              "      <td>1.213738e+04</td>\n",
              "      <td>3.699540e+04</td>\n",
              "    </tr>\n",
              "    <tr>\n",
              "      <th>size_npear</th>\n",
              "      <td>7316.0</td>\n",
              "      <td>3.033188e+03</td>\n",
              "      <td>1453.517395</td>\n",
              "      <td>520.33000</td>\n",
              "      <td>1986.167500</td>\n",
              "      <td>2.688000e+03</td>\n",
              "      <td>3.846612e+03</td>\n",
              "      <td>1.353500e+04</td>\n",
              "    </tr>\n",
              "    <tr>\n",
              "      <th>malign_ratio</th>\n",
              "      <td>7316.0</td>\n",
              "      <td>3.030910e-01</td>\n",
              "      <td>0.062637</td>\n",
              "      <td>0.12161</td>\n",
              "      <td>0.258623</td>\n",
              "      <td>3.006600e-01</td>\n",
              "      <td>3.431325e-01</td>\n",
              "      <td>5.253000e-01</td>\n",
              "    </tr>\n",
              "    <tr>\n",
              "      <th>damage_size</th>\n",
              "      <td>7316.0</td>\n",
              "      <td>1.039102e+02</td>\n",
              "      <td>55.303260</td>\n",
              "      <td>10.31010</td>\n",
              "      <td>64.011200</td>\n",
              "      <td>8.860810e+01</td>\n",
              "      <td>1.343580e+02</td>\n",
              "      <td>3.443460e+02</td>\n",
              "    </tr>\n",
              "    <tr>\n",
              "      <th>exposed_area</th>\n",
              "      <td>7316.0</td>\n",
              "      <td>1.372354e+06</td>\n",
              "      <td>561087.107307</td>\n",
              "      <td>387853.40250</td>\n",
              "      <td>959820.168650</td>\n",
              "      <td>1.238623e+06</td>\n",
              "      <td>1.696990e+06</td>\n",
              "      <td>4.978616e+06</td>\n",
              "    </tr>\n",
              "    <tr>\n",
              "      <th>std_dev_malign</th>\n",
              "      <td>7316.0</td>\n",
              "      <td>1.464097e+02</td>\n",
              "      <td>70.223909</td>\n",
              "      <td>31.97040</td>\n",
              "      <td>95.617575</td>\n",
              "      <td>1.266190e+02</td>\n",
              "      <td>1.825915e+02</td>\n",
              "      <td>5.288900e+02</td>\n",
              "    </tr>\n",
              "    <tr>\n",
              "      <th>err_malign</th>\n",
              "      <td>7316.0</td>\n",
              "      <td>3.979876e+03</td>\n",
              "      <td>1472.446085</td>\n",
              "      <td>1089.19000</td>\n",
              "      <td>3175.735000</td>\n",
              "      <td>3.849515e+03</td>\n",
              "      <td>4.671913e+03</td>\n",
              "      <td>5.303130e+04</td>\n",
              "    </tr>\n",
              "    <tr>\n",
              "      <th>malign_penalty</th>\n",
              "      <td>7316.0</td>\n",
              "      <td>6.996473e+01</td>\n",
              "      <td>55.756789</td>\n",
              "      <td>0.00000</td>\n",
              "      <td>31.000000</td>\n",
              "      <td>5.400000e+01</td>\n",
              "      <td>9.100000e+01</td>\n",
              "      <td>3.400000e+02</td>\n",
              "    </tr>\n",
              "    <tr>\n",
              "      <th>damage_ratio</th>\n",
              "      <td>7316.0</td>\n",
              "      <td>3.444139e+01</td>\n",
              "      <td>5.976883</td>\n",
              "      <td>15.22800</td>\n",
              "      <td>30.211175</td>\n",
              "      <td>3.523625e+01</td>\n",
              "      <td>3.882603e+01</td>\n",
              "      <td>4.654640e+01</td>\n",
              "    </tr>\n",
              "    <tr>\n",
              "      <th>tumor_size</th>\n",
              "      <td>7316.0</td>\n",
              "      <td>7.693081e+00</td>\n",
              "      <td>6.092732</td>\n",
              "      <td>0.00000</td>\n",
              "      <td>2.301500</td>\n",
              "      <td>5.007000e+00</td>\n",
              "      <td>1.333600e+01</td>\n",
              "      <td>2.098500e+01</td>\n",
              "    </tr>\n",
              "  </tbody>\n",
              "</table>\n",
              "</div>"
            ],
            "text/plain": [
              "                 count          mean  ...           75%           max\n",
              "Id              7316.0  4.572896e+03  ...  6.850250e+03  9.145000e+03\n",
              "mass_npea       7316.0  9.903204e+03  ...  1.213738e+04  3.699540e+04\n",
              "size_npear      7316.0  3.033188e+03  ...  3.846612e+03  1.353500e+04\n",
              "malign_ratio    7316.0  3.030910e-01  ...  3.431325e-01  5.253000e-01\n",
              "damage_size     7316.0  1.039102e+02  ...  1.343580e+02  3.443460e+02\n",
              "exposed_area    7316.0  1.372354e+06  ...  1.696990e+06  4.978616e+06\n",
              "std_dev_malign  7316.0  1.464097e+02  ...  1.825915e+02  5.288900e+02\n",
              "err_malign      7316.0  3.979876e+03  ...  4.671913e+03  5.303130e+04\n",
              "malign_penalty  7316.0  6.996473e+01  ...  9.100000e+01  3.400000e+02\n",
              "damage_ratio    7316.0  3.444139e+01  ...  3.882603e+01  4.654640e+01\n",
              "tumor_size      7316.0  7.693081e+00  ...  1.333600e+01  2.098500e+01\n",
              "\n",
              "[11 rows x 8 columns]"
            ]
          },
          "metadata": {
            "tags": []
          },
          "execution_count": 7
        }
      ]
    },
    {
      "cell_type": "markdown",
      "metadata": {
        "id": "pkKMU1Z5zOEU"
      },
      "source": [
        "**Observation**\n",
        "- We can see that most of the columns have a **very high max** value which suggest that they have **outliers**.\n",
        "\n",
        "- We will further investigate it in our analysis below.\n"
      ]
    },
    {
      "cell_type": "markdown",
      "metadata": {
        "id": "rfoaHCne7IhB"
      },
      "source": [
        "<a id=section302></a>\n",
        "### 3.2 Pandas Profiling before Data Preprocessing"
      ]
    },
    {
      "cell_type": "markdown",
      "metadata": {
        "id": "C8C4HjWN7JrZ"
      },
      "source": [
        "- Here, we will perform **Pandas Profiling before preprocessing** our dataset, so we will name the **output file** as __tumor_train_before_preprocessing.html__.\n",
        "\n",
        "\n",
        "- The file will be stored in the directory of your notebook. Open it using the jupyter notebook file explorer and take a look at it and see what insights you can develop from it. \n",
        "\n",
        "\n",
        "- Or you can **output the profiling report** in the **current jupyter notebook** as well as shown in the code below. "
      ]
    },
    {
      "cell_type": "markdown",
      "metadata": {
        "id": "8B_b8UQa83kO"
      },
      "source": [
        "<a id=section4></a>\n",
        "# 4. Data Exploration"
      ]
    },
    {
      "cell_type": "markdown",
      "metadata": {
        "id": "JLVhujwgAWRp"
      },
      "source": [
        "**Observation**\n",
        "- We can see that the column `malign_ratio` is positively correlated with `tumor_size`.\n",
        "\n",
        "- The column `damage_size` is negatively correlated with `tumor_size`"
      ]
    },
    {
      "cell_type": "markdown",
      "metadata": {
        "id": "pOfEHhnw5OI0"
      },
      "source": [
        "**Observation**\n",
        "- The columns `mass_npea` and `exposed_area` has correlation equal to 1.\n",
        "\n",
        "- The columns `mass_npea` and `exposed_area` is negatively correlated to `damage_ratio`."
      ]
    },
    {
      "cell_type": "markdown",
      "metadata": {
        "id": "0EaGVws-F2Zp"
      },
      "source": [
        "<a id=section402></a>\n",
        "### 4.2 Data processing"
      ]
    },
    {
      "cell_type": "code",
      "metadata": {
        "id": "mtiFii5tAR7y"
      },
      "source": [
        "#Separating Input Features and Target Variable.\n",
        "X_train = tumor_train.drop(columns=['tumor_size'])\n",
        "y_train= tumor_train['tumor_size']"
      ],
      "execution_count": null,
      "outputs": []
    },
    {
      "cell_type": "markdown",
      "metadata": {
        "id": "gI98o-85IZ9-"
      },
      "source": [
        "\n",
        "###  Normalize the Data\n",
        "\n",
        "- Look again at the `train_stats` block above and note how different the ranges of each feature are.\n",
        "\n",
        "- It is good practice to normalize features that use different scales and ranges.\n",
        "\n",
        "- Although the model *might* converge without feature normalization, it makes training more difficult, and it makes the resulting model dependent on the choice of units used in the input.\n",
        "\n",
        "- **Note**: Although we intentionally generate these statistics from only the training dataset, these statistics will also be used to normalize the test dataset.\n",
        "\n",
        "- We need to do that to project the test dataset into the same distribution that the model has been trained on."
      ]
    },
    {
      "cell_type": "code",
      "metadata": {
        "id": "Ltkh6pIq9sQd"
      },
      "source": [
        "train_stats = X_train.describe()"
      ],
      "execution_count": null,
      "outputs": []
    },
    {
      "cell_type": "code",
      "metadata": {
        "colab": {
          "base_uri": "https://localhost:8080/",
          "height": 340
        },
        "id": "H04FAPQT_9X8",
        "outputId": "cf5bb168-9150-402c-c856-2e579f309955"
      },
      "source": [
        "train_stats\n",
        "train_stats = train_stats.transpose()\n",
        "train_stats"
      ],
      "execution_count": null,
      "outputs": [
        {
          "output_type": "execute_result",
          "data": {
            "text/html": [
              "<div>\n",
              "<style scoped>\n",
              "    .dataframe tbody tr th:only-of-type {\n",
              "        vertical-align: middle;\n",
              "    }\n",
              "\n",
              "    .dataframe tbody tr th {\n",
              "        vertical-align: top;\n",
              "    }\n",
              "\n",
              "    .dataframe thead th {\n",
              "        text-align: right;\n",
              "    }\n",
              "</style>\n",
              "<table border=\"1\" class=\"dataframe\">\n",
              "  <thead>\n",
              "    <tr style=\"text-align: right;\">\n",
              "      <th></th>\n",
              "      <th>count</th>\n",
              "      <th>mean</th>\n",
              "      <th>std</th>\n",
              "      <th>min</th>\n",
              "      <th>25%</th>\n",
              "      <th>50%</th>\n",
              "      <th>75%</th>\n",
              "      <th>max</th>\n",
              "    </tr>\n",
              "  </thead>\n",
              "  <tbody>\n",
              "    <tr>\n",
              "      <th>Id</th>\n",
              "      <td>7316.0</td>\n",
              "      <td>4.572896e+03</td>\n",
              "      <td>2634.666726</td>\n",
              "      <td>1.00000</td>\n",
              "      <td>2298.750000</td>\n",
              "      <td>4.561500e+03</td>\n",
              "      <td>6.850250e+03</td>\n",
              "      <td>9.145000e+03</td>\n",
              "    </tr>\n",
              "    <tr>\n",
              "      <th>mass_npea</th>\n",
              "      <td>7316.0</td>\n",
              "      <td>9.903204e+03</td>\n",
              "      <td>4035.017571</td>\n",
              "      <td>2864.76000</td>\n",
              "      <td>6983.410000</td>\n",
              "      <td>8.894730e+03</td>\n",
              "      <td>1.213738e+04</td>\n",
              "      <td>3.699540e+04</td>\n",
              "    </tr>\n",
              "    <tr>\n",
              "      <th>size_npear</th>\n",
              "      <td>7316.0</td>\n",
              "      <td>3.033188e+03</td>\n",
              "      <td>1453.517395</td>\n",
              "      <td>520.33000</td>\n",
              "      <td>1986.167500</td>\n",
              "      <td>2.688000e+03</td>\n",
              "      <td>3.846612e+03</td>\n",
              "      <td>1.353500e+04</td>\n",
              "    </tr>\n",
              "    <tr>\n",
              "      <th>malign_ratio</th>\n",
              "      <td>7316.0</td>\n",
              "      <td>3.030910e-01</td>\n",
              "      <td>0.062637</td>\n",
              "      <td>0.12161</td>\n",
              "      <td>0.258623</td>\n",
              "      <td>3.006600e-01</td>\n",
              "      <td>3.431325e-01</td>\n",
              "      <td>5.253000e-01</td>\n",
              "    </tr>\n",
              "    <tr>\n",
              "      <th>damage_size</th>\n",
              "      <td>7316.0</td>\n",
              "      <td>1.039102e+02</td>\n",
              "      <td>55.303260</td>\n",
              "      <td>10.31010</td>\n",
              "      <td>64.011200</td>\n",
              "      <td>8.860810e+01</td>\n",
              "      <td>1.343580e+02</td>\n",
              "      <td>3.443460e+02</td>\n",
              "    </tr>\n",
              "    <tr>\n",
              "      <th>exposed_area</th>\n",
              "      <td>7316.0</td>\n",
              "      <td>1.372354e+06</td>\n",
              "      <td>561087.107307</td>\n",
              "      <td>387853.40250</td>\n",
              "      <td>959820.168650</td>\n",
              "      <td>1.238623e+06</td>\n",
              "      <td>1.696990e+06</td>\n",
              "      <td>4.978616e+06</td>\n",
              "    </tr>\n",
              "    <tr>\n",
              "      <th>std_dev_malign</th>\n",
              "      <td>7316.0</td>\n",
              "      <td>1.464097e+02</td>\n",
              "      <td>70.223909</td>\n",
              "      <td>31.97040</td>\n",
              "      <td>95.617575</td>\n",
              "      <td>1.266190e+02</td>\n",
              "      <td>1.825915e+02</td>\n",
              "      <td>5.288900e+02</td>\n",
              "    </tr>\n",
              "    <tr>\n",
              "      <th>err_malign</th>\n",
              "      <td>7316.0</td>\n",
              "      <td>3.979876e+03</td>\n",
              "      <td>1472.446085</td>\n",
              "      <td>1089.19000</td>\n",
              "      <td>3175.735000</td>\n",
              "      <td>3.849515e+03</td>\n",
              "      <td>4.671913e+03</td>\n",
              "      <td>5.303130e+04</td>\n",
              "    </tr>\n",
              "    <tr>\n",
              "      <th>malign_penalty</th>\n",
              "      <td>7316.0</td>\n",
              "      <td>6.996473e+01</td>\n",
              "      <td>55.756789</td>\n",
              "      <td>0.00000</td>\n",
              "      <td>31.000000</td>\n",
              "      <td>5.400000e+01</td>\n",
              "      <td>9.100000e+01</td>\n",
              "      <td>3.400000e+02</td>\n",
              "    </tr>\n",
              "    <tr>\n",
              "      <th>damage_ratio</th>\n",
              "      <td>7316.0</td>\n",
              "      <td>3.444139e+01</td>\n",
              "      <td>5.976883</td>\n",
              "      <td>15.22800</td>\n",
              "      <td>30.211175</td>\n",
              "      <td>3.523625e+01</td>\n",
              "      <td>3.882603e+01</td>\n",
              "      <td>4.654640e+01</td>\n",
              "    </tr>\n",
              "  </tbody>\n",
              "</table>\n",
              "</div>"
            ],
            "text/plain": [
              "                 count          mean  ...           75%           max\n",
              "Id              7316.0  4.572896e+03  ...  6.850250e+03  9.145000e+03\n",
              "mass_npea       7316.0  9.903204e+03  ...  1.213738e+04  3.699540e+04\n",
              "size_npear      7316.0  3.033188e+03  ...  3.846612e+03  1.353500e+04\n",
              "malign_ratio    7316.0  3.030910e-01  ...  3.431325e-01  5.253000e-01\n",
              "damage_size     7316.0  1.039102e+02  ...  1.343580e+02  3.443460e+02\n",
              "exposed_area    7316.0  1.372354e+06  ...  1.696990e+06  4.978616e+06\n",
              "std_dev_malign  7316.0  1.464097e+02  ...  1.825915e+02  5.288900e+02\n",
              "err_malign      7316.0  3.979876e+03  ...  4.671913e+03  5.303130e+04\n",
              "malign_penalty  7316.0  6.996473e+01  ...  9.100000e+01  3.400000e+02\n",
              "damage_ratio    7316.0  3.444139e+01  ...  3.882603e+01  4.654640e+01\n",
              "\n",
              "[10 rows x 8 columns]"
            ]
          },
          "metadata": {
            "tags": []
          },
          "execution_count": 14
        }
      ]
    },
    {
      "cell_type": "code",
      "metadata": {
        "id": "IbeR8ZvI9tVG"
      },
      "source": [
        "def norm(x):\n",
        "  return (x - train_stats['mean']) / train_stats['std']"
      ],
      "execution_count": null,
      "outputs": []
    },
    {
      "cell_type": "code",
      "metadata": {
        "id": "E1ohkMHV9xGs"
      },
      "source": [
        "normed_train_data = norm(X_train)"
      ],
      "execution_count": null,
      "outputs": []
    },
    {
      "cell_type": "markdown",
      "metadata": {
        "id": "DYKylrO3Hrqj"
      },
      "source": [
        "<a id=section5></a>\n",
        "## 5. The Model"
      ]
    },
    {
      "cell_type": "markdown",
      "metadata": {
        "id": "pzTvL6TBHzuH"
      },
      "source": [
        "<a id=section501></a>\n",
        "### 5.1 Build the Model\n",
        "\n",
        "- Let's build our model.\n",
        "\n",
        "- Here, we'll use a `Sequential` model with two densely connected hidden layers, and an output layer that returns a single, continuous value.\n",
        "\n",
        "- The model building steps are wrapped in a function, `build_model`, since we'll create a second model, later on."
      ]
    },
    {
      "cell_type": "code",
      "metadata": {
        "id": "wvF54vchGFb1"
      },
      "source": [
        "def build_model():\n",
        "  model1 = keras.Sequential([layers.Dense(64, activation='relu', input_shape=[len(X_train.keys())]),\n",
        "                            layers.Dense(64, activation='relu'),\n",
        "                            layers.Dense(1)])\n",
        "\n",
        "  # Defining the optimizer with a specific learning rate of 0.001\n",
        "  optimizer = tf.keras.optimizers.RMSprop(0.001)\n",
        "\n",
        "  # Compiling the model\n",
        "  model1.compile(loss='mse', optimizer=optimizer, metrics=['mae', 'mse'])\n",
        "  return model1"
      ],
      "execution_count": null,
      "outputs": []
    },
    {
      "cell_type": "code",
      "metadata": {
        "id": "MqFVcWgVIA7F"
      },
      "source": [
        "model1 = build_model()"
      ],
      "execution_count": null,
      "outputs": []
    },
    {
      "cell_type": "markdown",
      "metadata": {
        "id": "nU-FgslJJIBl"
      },
      "source": [
        "\n",
        "\n",
        "- Using the `.summary` method to print a simple description of the model\n"
      ]
    },
    {
      "cell_type": "code",
      "metadata": {
        "colab": {
          "base_uri": "https://localhost:8080/"
        },
        "id": "_orNwNpoJMkh",
        "outputId": "f15e092a-9df7-43bc-e303-957427df8184"
      },
      "source": [
        "model1.summary()"
      ],
      "execution_count": null,
      "outputs": [
        {
          "output_type": "stream",
          "text": [
            "Model: \"sequential\"\n",
            "_________________________________________________________________\n",
            "Layer (type)                 Output Shape              Param #   \n",
            "=================================================================\n",
            "dense (Dense)                (None, 64)                704       \n",
            "_________________________________________________________________\n",
            "dense_1 (Dense)              (None, 64)                4160      \n",
            "_________________________________________________________________\n",
            "dense_2 (Dense)              (None, 1)                 65        \n",
            "=================================================================\n",
            "Total params: 4,929\n",
            "Trainable params: 4,929\n",
            "Non-trainable params: 0\n",
            "_________________________________________________________________\n"
          ],
          "name": "stdout"
        }
      ]
    },
    {
      "cell_type": "markdown",
      "metadata": {
        "id": "-awqW-_dKH-b"
      },
      "source": [
        "<a id=section503></a>\n",
        "### 5.3 Train the Model\n",
        "\n",
        "- Training the model for 1000 epochs, and recording the training and validation accuracy in the `history` object.\n",
        "\n",
        "- We are using `tfdocs.modeling.EpochDots()` callback to print a \".\" every epoch, with reports after each 100 epochs.\n",
        "\n",
        "  - These print settings are the default values, i. e. printing a \".\" after each epoch and a report after 100 epochs.\n",
        "\n",
        "  - We can change these as per our requirements in the callback."
      ]
    },
    {
      "cell_type": "code",
      "metadata": {
        "id": "QRDgdzoAJUSx"
      },
      "source": [
        "EPOCHS = 1000"
      ],
      "execution_count": null,
      "outputs": []
    },
    {
      "cell_type": "code",
      "metadata": {
        "id": "8AvK1koiKnW2",
        "colab": {
          "base_uri": "https://localhost:8080/"
        },
        "outputId": "cc434e99-6458-4c6d-b561-9f77812d7ff9"
      },
      "source": [
        "history = model1.fit(normed_train_data,y_train, epochs=EPOCHS, validation_split=0.2,\n",
        "                    verbose=0, callbacks=[tfdocs.modeling.EpochDots()])"
      ],
      "execution_count": null,
      "outputs": [
        {
          "output_type": "stream",
          "text": [
            "\n",
            "Epoch: 0, loss:9.8318,  mae:2.3801,  mse:9.8318,  val_loss:23.2513,  val_mae:3.5700,  val_mse:23.2513,  \n",
            "....................................................................................................\n",
            "Epoch: 100, loss:9.4083,  mae:2.3319,  mse:9.4083,  val_loss:24.9489,  val_mae:3.7143,  val_mse:24.9489,  \n",
            "....................................................................................................\n",
            "Epoch: 200, loss:9.0907,  mae:2.2929,  mse:9.0907,  val_loss:23.4164,  val_mae:3.4648,  val_mse:23.4164,  \n",
            "....................................................................................................\n",
            "Epoch: 300, loss:8.7510,  mae:2.2470,  mse:8.7510,  val_loss:24.2301,  val_mae:3.5357,  val_mse:24.2301,  \n",
            "....................................................................................................\n",
            "Epoch: 400, loss:8.7292,  mae:2.2232,  mse:8.7292,  val_loss:23.6987,  val_mae:3.5378,  val_mse:23.6987,  \n",
            "....................................................................................................\n",
            "Epoch: 500, loss:8.3399,  mae:2.2074,  mse:8.3399,  val_loss:24.7513,  val_mae:3.6274,  val_mse:24.7513,  \n",
            "....................................................................................................\n",
            "Epoch: 600, loss:8.1086,  mae:2.1738,  mse:8.1086,  val_loss:25.4948,  val_mae:3.8217,  val_mse:25.4948,  \n",
            "....................................................................................................\n",
            "Epoch: 700, loss:8.0037,  mae:2.1388,  mse:8.0037,  val_loss:24.4539,  val_mae:3.5783,  val_mse:24.4539,  \n",
            "....................................................................................................\n",
            "Epoch: 800, loss:7.6941,  mae:2.1127,  mse:7.6941,  val_loss:24.9283,  val_mae:3.6229,  val_mse:24.9283,  \n",
            "....................................................................................................\n",
            "Epoch: 900, loss:7.6369,  mae:2.1010,  mse:7.6369,  val_loss:25.2183,  val_mae:3.7113,  val_mse:25.2183,  \n",
            "...................................................................................................."
          ],
          "name": "stdout"
        }
      ]
    },
    {
      "cell_type": "markdown",
      "metadata": {
        "id": "nUq5rbzEMUKJ"
      },
      "source": [
        "### Visualizing the model's training progress using the stats stored in the `history` object."
      ]
    },
    {
      "cell_type": "code",
      "metadata": {
        "id": "X7LymM0kLnmB",
        "colab": {
          "base_uri": "https://localhost:8080/",
          "height": 194
        },
        "outputId": "25c94f67-e3e5-4bdf-b125-f9b7c3df0d4c"
      },
      "source": [
        "hist = pd.DataFrame(history.history)\n",
        "hist['epoch'] = history.epoch\n",
        "hist.tail()"
      ],
      "execution_count": null,
      "outputs": [
        {
          "output_type": "execute_result",
          "data": {
            "text/html": [
              "<div>\n",
              "<style scoped>\n",
              "    .dataframe tbody tr th:only-of-type {\n",
              "        vertical-align: middle;\n",
              "    }\n",
              "\n",
              "    .dataframe tbody tr th {\n",
              "        vertical-align: top;\n",
              "    }\n",
              "\n",
              "    .dataframe thead th {\n",
              "        text-align: right;\n",
              "    }\n",
              "</style>\n",
              "<table border=\"1\" class=\"dataframe\">\n",
              "  <thead>\n",
              "    <tr style=\"text-align: right;\">\n",
              "      <th></th>\n",
              "      <th>loss</th>\n",
              "      <th>mae</th>\n",
              "      <th>mse</th>\n",
              "      <th>val_loss</th>\n",
              "      <th>val_mae</th>\n",
              "      <th>val_mse</th>\n",
              "      <th>epoch</th>\n",
              "    </tr>\n",
              "  </thead>\n",
              "  <tbody>\n",
              "    <tr>\n",
              "      <th>995</th>\n",
              "      <td>7.435163</td>\n",
              "      <td>2.076543</td>\n",
              "      <td>7.435163</td>\n",
              "      <td>25.452280</td>\n",
              "      <td>3.691347</td>\n",
              "      <td>25.452280</td>\n",
              "      <td>995</td>\n",
              "    </tr>\n",
              "    <tr>\n",
              "      <th>996</th>\n",
              "      <td>7.717958</td>\n",
              "      <td>2.098328</td>\n",
              "      <td>7.717958</td>\n",
              "      <td>26.752247</td>\n",
              "      <td>3.795399</td>\n",
              "      <td>26.752247</td>\n",
              "      <td>996</td>\n",
              "    </tr>\n",
              "    <tr>\n",
              "      <th>997</th>\n",
              "      <td>7.534036</td>\n",
              "      <td>2.074617</td>\n",
              "      <td>7.534036</td>\n",
              "      <td>25.491768</td>\n",
              "      <td>3.744742</td>\n",
              "      <td>25.491768</td>\n",
              "      <td>997</td>\n",
              "    </tr>\n",
              "    <tr>\n",
              "      <th>998</th>\n",
              "      <td>7.623556</td>\n",
              "      <td>2.109018</td>\n",
              "      <td>7.623556</td>\n",
              "      <td>25.627125</td>\n",
              "      <td>3.691307</td>\n",
              "      <td>25.627125</td>\n",
              "      <td>998</td>\n",
              "    </tr>\n",
              "    <tr>\n",
              "      <th>999</th>\n",
              "      <td>7.458797</td>\n",
              "      <td>2.087331</td>\n",
              "      <td>7.458797</td>\n",
              "      <td>24.504145</td>\n",
              "      <td>3.654620</td>\n",
              "      <td>24.504145</td>\n",
              "      <td>999</td>\n",
              "    </tr>\n",
              "  </tbody>\n",
              "</table>\n",
              "</div>"
            ],
            "text/plain": [
              "         loss       mae       mse   val_loss   val_mae    val_mse  epoch\n",
              "995  7.435163  2.076543  7.435163  25.452280  3.691347  25.452280    995\n",
              "996  7.717958  2.098328  7.717958  26.752247  3.795399  26.752247    996\n",
              "997  7.534036  2.074617  7.534036  25.491768  3.744742  25.491768    997\n",
              "998  7.623556  2.109018  7.623556  25.627125  3.691307  25.627125    998\n",
              "999  7.458797  2.087331  7.458797  24.504145  3.654620  24.504145    999"
            ]
          },
          "metadata": {
            "tags": []
          },
          "execution_count": 33
        }
      ]
    },
    {
      "cell_type": "markdown",
      "metadata": {
        "id": "Fkv4XXaLMuuE"
      },
      "source": [
        "- We are using `tfdocs.plots.HistoryPlotter()` to plot our model history."
      ]
    },
    {
      "cell_type": "code",
      "metadata": {
        "id": "w2DldNs4Mns8"
      },
      "source": [
        "plotter = tfdocs.plots.HistoryPlotter(smoothing_std=2)"
      ],
      "execution_count": null,
      "outputs": []
    },
    {
      "cell_type": "markdown",
      "metadata": {
        "id": "0OWaNhvPM3Yj"
      },
      "source": [
        "### Plotting the **MAE** plot for train and val set."
      ]
    },
    {
      "cell_type": "markdown",
      "metadata": {
        "id": "bihlAYXcM2Pm"
      },
      "source": [
        "- Specifying the name of our **history** object in the `plotter.plot()` method.\n",
        "\n",
        "- We also need to specify the **metric** we want to plot."
      ]
    },
    {
      "cell_type": "code",
      "metadata": {
        "id": "vr76jd8mMyKW",
        "colab": {
          "base_uri": "https://localhost:8080/",
          "height": 300
        },
        "outputId": "abcd2d53-91c9-4435-f300-65c4c0c27c6f"
      },
      "source": [
        "plotter.plot({'Basic': history}, metric=\"mae\")\n",
        "plt.ylim([0, 10])\n",
        "plt.ylabel('MAE[tumor_size]')"
      ],
      "execution_count": null,
      "outputs": [
        {
          "output_type": "execute_result",
          "data": {
            "text/plain": [
              "Text(0, 0.5, 'MAE[tumor_size]')"
            ]
          },
          "metadata": {
            "tags": []
          },
          "execution_count": 35
        },
        {
          "output_type": "display_data",
          "data": {
            "image/png": "[encoded data removed]",
            "text/plain": [
              "<Figure size 432x288 with 1 Axes>"
            ]
          },
          "metadata": {
            "tags": []
          }
        }
      ]
    },
    {
      "cell_type": "markdown",
      "metadata": {
        "id": "GJW2A1EsCJ4v"
      },
      "source": [
        "### Plotting the **MSE** plot for train and val set."
      ]
    },
    {
      "cell_type": "code",
      "metadata": {
        "id": "FRX55pksCP5I",
        "colab": {
          "base_uri": "https://localhost:8080/",
          "height": 300
        },
        "outputId": "8a902075-d4bb-45e8-febc-2a16dc85502d"
      },
      "source": [
        "plotter.plot({'Basic': history}, metric=\"mse\")\n",
        "plt.ylim([0, 40])\n",
        "plt.ylabel('MSE [tumor_size^2]')"
      ],
      "execution_count": null,
      "outputs": [
        {
          "output_type": "execute_result",
          "data": {
            "text/plain": [
              "Text(0, 0.5, 'MSE [tumor_size^2]')"
            ]
          },
          "metadata": {
            "tags": []
          },
          "execution_count": 36
        },
        {
          "output_type": "display_data",
          "data": {
            "image/png": "[encoded data removed]",
            "text/plain": [
              "<Figure size 432x288 with 1 Axes>"
            ]
          },
          "metadata": {
            "tags": []
          }
        }
      ]
    },
    {
      "cell_type": "markdown",
      "metadata": {
        "id": "hG1NFVFwCkk8"
      },
      "source": [
        "- This graph shows increase in the validation error as the epoch increases.\n",
        "\n",
        "- Let's update the `model.fit` call to automatically stop training when the validation score doesn't improve.\n",
        "\n",
        "- We'll use an *EarlyStopping callback* that tests a training condition for  every epoch.\n",
        "\n",
        "  - If a set amount of epochs elapses without showing improvement, then automatically stop the training."
      ]
    },
    {
      "cell_type": "code",
      "metadata": {
        "id": "aGeV8fXJCn30"
      },
      "source": [
        "model1 = build_model()"
      ],
      "execution_count": null,
      "outputs": []
    },
    {
      "cell_type": "code",
      "metadata": {
        "id": "Hwr0EfZVCpE3"
      },
      "source": [
        "# The patience parameter is the amount of epochs to check for improvement\n",
        "early_stop = keras.callbacks.EarlyStopping(monitor='val_loss', patience=10)"
      ],
      "execution_count": null,
      "outputs": []
    },
    {
      "cell_type": "code",
      "metadata": {
        "id": "cX9Jv94eCuqT",
        "colab": {
          "base_uri": "https://localhost:8080/"
        },
        "outputId": "d6796a0d-3385-469d-d563-735c2252d922"
      },
      "source": [
        "early_history = model1.fit(normed_train_data, y_train, epochs=EPOCHS, validation_split=0.2,\n",
        "                          verbose=0, callbacks=[early_stop, tfdocs.modeling.EpochDots()])"
      ],
      "execution_count": null,
      "outputs": [
        {
          "output_type": "stream",
          "text": [
            "\n",
            "Epoch: 0, loss:40.9189,  mae:4.9474,  mse:40.9189,  val_loss:29.2631,  val_mae:4.4860,  val_mse:29.2631,  \n",
            "....................................................................................................\n",
            "Epoch: 100, loss:17.8562,  mae:3.2721,  mse:17.8562,  val_loss:20.4157,  val_mae:3.4976,  val_mse:20.4157,  \n",
            "..................."
          ],
          "name": "stdout"
        }
      ]
    },
    {
      "cell_type": "code",
      "metadata": {
        "id": "LNQ_IUObC2qA",
        "colab": {
          "base_uri": "https://localhost:8080/",
          "height": 194
        },
        "outputId": "45ec09a8-7e0b-4d65-b1a3-476de21cbe65"
      },
      "source": [
        "early_hist = pd.DataFrame(early_history.history)\n",
        "early_hist['epoch'] = early_history.epoch\n",
        "early_hist.tail()"
      ],
      "execution_count": null,
      "outputs": [
        {
          "output_type": "execute_result",
          "data": {
            "text/html": [
              "<div>\n",
              "<style scoped>\n",
              "    .dataframe tbody tr th:only-of-type {\n",
              "        vertical-align: middle;\n",
              "    }\n",
              "\n",
              "    .dataframe tbody tr th {\n",
              "        vertical-align: top;\n",
              "    }\n",
              "\n",
              "    .dataframe thead th {\n",
              "        text-align: right;\n",
              "    }\n",
              "</style>\n",
              "<table border=\"1\" class=\"dataframe\">\n",
              "  <thead>\n",
              "    <tr style=\"text-align: right;\">\n",
              "      <th></th>\n",
              "      <th>loss</th>\n",
              "      <th>mae</th>\n",
              "      <th>mse</th>\n",
              "      <th>val_loss</th>\n",
              "      <th>val_mae</th>\n",
              "      <th>val_mse</th>\n",
              "      <th>epoch</th>\n",
              "    </tr>\n",
              "  </thead>\n",
              "  <tbody>\n",
              "    <tr>\n",
              "      <th>114</th>\n",
              "      <td>17.478559</td>\n",
              "      <td>3.231163</td>\n",
              "      <td>17.478559</td>\n",
              "      <td>20.048920</td>\n",
              "      <td>3.443640</td>\n",
              "      <td>20.048920</td>\n",
              "      <td>114</td>\n",
              "    </tr>\n",
              "    <tr>\n",
              "      <th>115</th>\n",
              "      <td>17.359163</td>\n",
              "      <td>3.215344</td>\n",
              "      <td>17.359163</td>\n",
              "      <td>20.305702</td>\n",
              "      <td>3.501830</td>\n",
              "      <td>20.305702</td>\n",
              "      <td>115</td>\n",
              "    </tr>\n",
              "    <tr>\n",
              "      <th>116</th>\n",
              "      <td>17.390881</td>\n",
              "      <td>3.226684</td>\n",
              "      <td>17.390881</td>\n",
              "      <td>20.817377</td>\n",
              "      <td>3.496631</td>\n",
              "      <td>20.817377</td>\n",
              "      <td>116</td>\n",
              "    </tr>\n",
              "    <tr>\n",
              "      <th>117</th>\n",
              "      <td>17.359638</td>\n",
              "      <td>3.222744</td>\n",
              "      <td>17.359638</td>\n",
              "      <td>20.071758</td>\n",
              "      <td>3.409125</td>\n",
              "      <td>20.071758</td>\n",
              "      <td>117</td>\n",
              "    </tr>\n",
              "    <tr>\n",
              "      <th>118</th>\n",
              "      <td>17.266535</td>\n",
              "      <td>3.211669</td>\n",
              "      <td>17.266535</td>\n",
              "      <td>20.273022</td>\n",
              "      <td>3.497321</td>\n",
              "      <td>20.273022</td>\n",
              "      <td>118</td>\n",
              "    </tr>\n",
              "  </tbody>\n",
              "</table>\n",
              "</div>"
            ],
            "text/plain": [
              "          loss       mae        mse   val_loss   val_mae    val_mse  epoch\n",
              "114  17.478559  3.231163  17.478559  20.048920  3.443640  20.048920    114\n",
              "115  17.359163  3.215344  17.359163  20.305702  3.501830  20.305702    115\n",
              "116  17.390881  3.226684  17.390881  20.817377  3.496631  20.817377    116\n",
              "117  17.359638  3.222744  17.359638  20.071758  3.409125  20.071758    117\n",
              "118  17.266535  3.211669  17.266535  20.273022  3.497321  20.273022    118"
            ]
          },
          "metadata": {
            "tags": []
          },
          "execution_count": 40
        }
      ]
    },
    {
      "cell_type": "markdown",
      "metadata": {
        "id": "e1Rd5hjNC9Om"
      },
      "source": [
        "- The training stopped before completing the 1000 epochs due to our EarlyStopping callback."
      ]
    },
    {
      "cell_type": "code",
      "metadata": {
        "id": "suw_06d9DAWL",
        "colab": {
          "base_uri": "https://localhost:8080/",
          "height": 300
        },
        "outputId": "3670feac-5da5-4407-bd2d-e628f9a144a0"
      },
      "source": [
        "plotter.plot({'Early Stopping': early_history}, metric=\"mae\")\n",
        "plt.ylim([0, 10])\n",
        "plt.ylabel('MAE [tumor_size]')"
      ],
      "execution_count": null,
      "outputs": [
        {
          "output_type": "execute_result",
          "data": {
            "text/plain": [
              "Text(0, 0.5, 'MAE [tumor_size]')"
            ]
          },
          "metadata": {
            "tags": []
          },
          "execution_count": 41
        },
        {
          "output_type": "display_data",
          "data": {
            "image/png": "[encoded data removed]",
            "text/plain": [
              "<Figure size 432x288 with 1 Axes>"
            ]
          },
          "metadata": {
            "tags": []
          }
        }
      ]
    },
    {
      "cell_type": "markdown",
      "metadata": {
        "id": "baweRRRIDNNL"
      },
      "source": [
        "- The graph shows that on the validation set, the error is around **+/- 3.49 tumor_size**.\n"
      ]
    },
    {
      "cell_type": "markdown",
      "metadata": {
        "id": "fBnfZhc2QGs-"
      },
      "source": [
        "<a id=section6></a>\n",
        "## 6. Model Tuning"
      ]
    },
    {
      "cell_type": "markdown",
      "metadata": {
        "id": "WSURLdgWQLTs"
      },
      "source": [
        "- Now we will experiment some methods to **improve** the model **performance** and reduce overfitting.\n",
        "\n",
        "  - These methods will all be applied during model building."
      ]
    },
    {
      "cell_type": "markdown",
      "metadata": {
        "id": "8UDavjW-QPIz"
      },
      "source": [
        "<a id=section601></a>\n",
        "### 6.1 Increasing the Number of Hidden Layers and Hidden Units"
      ]
    },
    {
      "cell_type": "markdown",
      "metadata": {
        "id": "qq_lexFSQSl9"
      },
      "source": [
        "- Here, we are increasing the number of **hidden layers** from 2 to **4** i. e. adding 2 additional layers.\n",
        "\n",
        "- Next, we are using **256 hidden units** instead of 64."
      ]
    },
    {
      "cell_type": "code",
      "source": [
        ""
      ],
      "metadata": {
        "id": "b6CEm-0lT4w0"
      },
      "execution_count": null,
      "outputs": []
    },
    {
      "cell_type": "code",
      "metadata": {
        "id": "jLjdju65QR9Q"
      },
      "source": [
        "model2 = keras.Sequential([layers.Dense(256, activation='relu', input_shape=[len(X_train.keys())]),\n",
        "                          layers.Dense(256, activation='relu'),\n",
        "                          layers.Dense(256, activation='relu'),\n",
        "                          layers.Dense(256, activation='relu'),\n",
        "                          layers.Dense(1)])"
      ],
      "execution_count": null,
      "outputs": []
    },
    {
      "cell_type": "code",
      "metadata": {
        "id": "LZzjt4bnEUU2",
        "colab": {
          "base_uri": "https://localhost:8080/"
        },
        "outputId": "f0f06f83-7528-4923-9047-195c87350342"
      },
      "source": [
        "model2.summary()"
      ],
      "execution_count": null,
      "outputs": [
        {
          "output_type": "stream",
          "text": [
            "Model: \"sequential_2\"\n",
            "_________________________________________________________________\n",
            "Layer (type)                 Output Shape              Param #   \n",
            "=================================================================\n",
            "dense_6 (Dense)              (None, 256)               2816      \n",
            "_________________________________________________________________\n",
            "dense_7 (Dense)              (None, 256)               65792     \n",
            "_________________________________________________________________\n",
            "dense_8 (Dense)              (None, 256)               65792     \n",
            "_________________________________________________________________\n",
            "dense_9 (Dense)              (None, 256)               65792     \n",
            "_________________________________________________________________\n",
            "dense_10 (Dense)             (None, 1)                 257       \n",
            "=================================================================\n",
            "Total params: 200,449\n",
            "Trainable params: 200,449\n",
            "Non-trainable params: 0\n",
            "_________________________________________________________________\n"
          ],
          "name": "stdout"
        }
      ]
    },
    {
      "cell_type": "code",
      "metadata": {
        "id": "mnGB-f2TRy5L"
      },
      "source": [
        "# Defining the optimizer with a specific learning rate of 0.001\n",
        "optimizer = tf.keras.optimizers.RMSprop(0.001)\n",
        "\n",
        "# Compiling the model\n",
        "model2.compile(loss='mse', optimizer=optimizer, metrics=['mae'])"
      ],
      "execution_count": null,
      "outputs": []
    },
    {
      "cell_type": "markdown",
      "metadata": {
        "id": "4fuR7fjeR7Iv"
      },
      "source": [
        "\n",
        "- The model will be trained for **100 epochs**."
      ]
    },
    {
      "cell_type": "code",
      "metadata": {
        "id": "sVONN5raR3FM",
        "colab": {
          "base_uri": "https://localhost:8080/"
        },
        "outputId": "45cc13e9-73c5-4169-a63d-d7c1292ff494"
      },
      "source": [
        "history_large = model2.fit(normed_train_data,y_train, epochs=100, validation_split=0.2,\n",
        "                          verbose=0, callbacks=[early_stop,tfdocs.modeling.EpochDots()])"
      ],
      "execution_count": null,
      "outputs": [
        {
          "output_type": "stream",
          "text": [
            "\n",
            "Epoch: 0, loss:32.0182,  mae:4.4456,  val_loss:25.3072,  val_mae:3.9946,  \n",
            "........................................"
          ],
          "name": "stdout"
        }
      ]
    },
    {
      "cell_type": "code",
      "metadata": {
        "id": "MXSjNqMRSBXD",
        "colab": {
          "base_uri": "https://localhost:8080/",
          "height": 194
        },
        "outputId": "48e734a9-59e8-4280-ef44-aa786390e4c9"
      },
      "source": [
        "hist_large = pd.DataFrame(history_large.history)\n",
        "hist_large['epoch'] = history_large.epoch\n",
        "hist_large.tail()"
      ],
      "execution_count": null,
      "outputs": [
        {
          "output_type": "execute_result",
          "data": {
            "text/html": [
              "<div>\n",
              "<style scoped>\n",
              "    .dataframe tbody tr th:only-of-type {\n",
              "        vertical-align: middle;\n",
              "    }\n",
              "\n",
              "    .dataframe tbody tr th {\n",
              "        vertical-align: top;\n",
              "    }\n",
              "\n",
              "    .dataframe thead th {\n",
              "        text-align: right;\n",
              "    }\n",
              "</style>\n",
              "<table border=\"1\" class=\"dataframe\">\n",
              "  <thead>\n",
              "    <tr style=\"text-align: right;\">\n",
              "      <th></th>\n",
              "      <th>loss</th>\n",
              "      <th>mae</th>\n",
              "      <th>val_loss</th>\n",
              "      <th>val_mae</th>\n",
              "      <th>epoch</th>\n",
              "    </tr>\n",
              "  </thead>\n",
              "  <tbody>\n",
              "    <tr>\n",
              "      <th>35</th>\n",
              "      <td>11.433439</td>\n",
              "      <td>2.429346</td>\n",
              "      <td>20.235449</td>\n",
              "      <td>3.235177</td>\n",
              "      <td>35</td>\n",
              "    </tr>\n",
              "    <tr>\n",
              "      <th>36</th>\n",
              "      <td>11.342772</td>\n",
              "      <td>2.417012</td>\n",
              "      <td>19.991377</td>\n",
              "      <td>3.059677</td>\n",
              "      <td>36</td>\n",
              "    </tr>\n",
              "    <tr>\n",
              "      <th>37</th>\n",
              "      <td>11.051290</td>\n",
              "      <td>2.366318</td>\n",
              "      <td>20.444344</td>\n",
              "      <td>3.175828</td>\n",
              "      <td>37</td>\n",
              "    </tr>\n",
              "    <tr>\n",
              "      <th>38</th>\n",
              "      <td>10.645434</td>\n",
              "      <td>2.326023</td>\n",
              "      <td>20.539961</td>\n",
              "      <td>3.175787</td>\n",
              "      <td>38</td>\n",
              "    </tr>\n",
              "    <tr>\n",
              "      <th>39</th>\n",
              "      <td>10.351854</td>\n",
              "      <td>2.310313</td>\n",
              "      <td>21.581596</td>\n",
              "      <td>3.411215</td>\n",
              "      <td>39</td>\n",
              "    </tr>\n",
              "  </tbody>\n",
              "</table>\n",
              "</div>"
            ],
            "text/plain": [
              "         loss       mae   val_loss   val_mae  epoch\n",
              "35  11.433439  2.429346  20.235449  3.235177     35\n",
              "36  11.342772  2.417012  19.991377  3.059677     36\n",
              "37  11.051290  2.366318  20.444344  3.175828     37\n",
              "38  10.645434  2.326023  20.539961  3.175787     38\n",
              "39  10.351854  2.310313  21.581596  3.411215     39"
            ]
          },
          "metadata": {
            "tags": []
          },
          "execution_count": 47
        }
      ]
    },
    {
      "cell_type": "code",
      "metadata": {
        "id": "BYa0iPkhSJcp",
        "colab": {
          "base_uri": "https://localhost:8080/",
          "height": 300
        },
        "outputId": "509318cb-4cbd-4a21-ae2c-d753f307dc64"
      },
      "source": [
        "plotter.plot({'Large Model': history_large}, metric=\"mae\")\n",
        "plt.ylim([0, 10])\n",
        "plt.ylabel('MAE [tumor_size]')"
      ],
      "execution_count": null,
      "outputs": [
        {
          "output_type": "execute_result",
          "data": {
            "text/plain": [
              "Text(0, 0.5, 'MAE [tumor_size]')"
            ]
          },
          "metadata": {
            "tags": []
          },
          "execution_count": 45
        },
        {
          "output_type": "display_data",
          "data": {
            "image/png": "[encoded data removed]",
            "text/plain": [
              "<Figure size 432x288 with 1 Axes>"
            ]
          },
          "metadata": {
            "tags": []
          }
        }
      ]
    },
    {
      "cell_type": "markdown",
      "metadata": {
        "id": "MsG2spDXTaw3"
      },
      "source": [
        "- We get a significant decrease in the validation set error.\n",
        "\n",
        "- We can see that the validation error decrease up to certain epoch and becomes almost constant.\n",
        "\n"
      ]
    },
    {
      "cell_type": "markdown",
      "metadata": {
        "id": "iTGluRnkTnfs"
      },
      "source": [
        "<a id=section602></a>\n",
        "### 6.2 Combined L2 + Dropout\n",
        "\n",
        "- We can also combine both L2 regularization and Dropout in a single model."
      ]
    },
    {
      "cell_type": "code",
      "metadata": {
        "id": "ILwrOwp9Sjng"
      },
      "source": [
        "from tensorflow.keras import regularizers\n",
        "model3 = keras.Sequential([layers.Dense(256, activation='relu', kernel_regularizer=regularizers.l2(0.001), input_shape=[len(X_train.keys())]),\n",
        "                          layers.Dropout(0.2),\n",
        "                          layers.Dense(256, activation='relu', kernel_regularizer=regularizers.l2(0.001)),\n",
        "                          layers.Dropout(0.2),\n",
        "                          layers.Dense(256, activation='relu', kernel_regularizer=regularizers.l2(0.001)),\n",
        "                          layers.Dropout(0.2),\n",
        "                          layers.Dense(256, activation='relu', kernel_regularizer=regularizers.l2(0.001)),\n",
        "                          layers.Dropout(0.2),\n",
        "                          layers.Dense(1)])"
      ],
      "execution_count": null,
      "outputs": []
    },
    {
      "cell_type": "code",
      "metadata": {
        "id": "kj3dHhYVTxM2",
        "colab": {
          "base_uri": "https://localhost:8080/"
        },
        "outputId": "70673a86-25ce-4733-f0ba-6c4859319661"
      },
      "source": [
        "model3.summary()"
      ],
      "execution_count": null,
      "outputs": [
        {
          "output_type": "stream",
          "text": [
            "Model: \"sequential_3\"\n",
            "_________________________________________________________________\n",
            "Layer (type)                 Output Shape              Param #   \n",
            "=================================================================\n",
            "dense_11 (Dense)             (None, 256)               2816      \n",
            "_________________________________________________________________\n",
            "dropout (Dropout)            (None, 256)               0         \n",
            "_________________________________________________________________\n",
            "dense_12 (Dense)             (None, 256)               65792     \n",
            "_________________________________________________________________\n",
            "dropout_1 (Dropout)          (None, 256)               0         \n",
            "_________________________________________________________________\n",
            "dense_13 (Dense)             (None, 256)               65792     \n",
            "_________________________________________________________________\n",
            "dropout_2 (Dropout)          (None, 256)               0         \n",
            "_________________________________________________________________\n",
            "dense_14 (Dense)             (None, 256)               65792     \n",
            "_________________________________________________________________\n",
            "dropout_3 (Dropout)          (None, 256)               0         \n",
            "_________________________________________________________________\n",
            "dense_15 (Dense)             (None, 1)                 257       \n",
            "=================================================================\n",
            "Total params: 200,449\n",
            "Trainable params: 200,449\n",
            "Non-trainable params: 0\n",
            "_________________________________________________________________\n"
          ],
          "name": "stdout"
        }
      ]
    },
    {
      "cell_type": "code",
      "metadata": {
        "id": "GdWwNEdgT326"
      },
      "source": [
        "# Defining the optimizer with a specific learning rate of 0.001\n",
        "optimizer = tf.keras.optimizers.RMSprop(0.001)\n",
        "\n",
        "# Compiling the model\n",
        "model3.compile(loss='mse', optimizer=optimizer, metrics=['mae'])"
      ],
      "execution_count": null,
      "outputs": []
    },
    {
      "cell_type": "code",
      "metadata": {
        "id": "mQun3hObUBzR",
        "colab": {
          "base_uri": "https://localhost:8080/"
        },
        "outputId": "bead72f2-2e00-427f-82cf-f76460381356"
      },
      "source": [
        "history_l2_dropout = model1.fit(normed_train_data,y_train, epochs=100, validation_split=0.2,\n",
        "                          verbose=0, callbacks=[early_stop,tfdocs.modeling.EpochDots()])"
      ],
      "execution_count": null,
      "outputs": [
        {
          "output_type": "stream",
          "text": [
            "\n",
            "Epoch: 0, loss:16.1572,  mae:3.0951,  mse:16.1572,  val_loss:19.6955,  val_mae:3.3581,  val_mse:19.6955,  \n",
            ".................."
          ],
          "name": "stdout"
        }
      ]
    },
    {
      "cell_type": "code",
      "metadata": {
        "id": "4CeZf87TT6bU",
        "colab": {
          "base_uri": "https://localhost:8080/",
          "height": 194
        },
        "outputId": "38533b82-01b2-43b2-bbdc-4646ef4069e4"
      },
      "source": [
        "hist_l2_dropout = pd.DataFrame(history_l2_dropout.history)\n",
        "hist_l2_dropout['epoch'] = history_l2_dropout.epoch\n",
        "hist_l2_dropout.tail()"
      ],
      "execution_count": null,
      "outputs": [
        {
          "output_type": "execute_result",
          "data": {
            "text/html": [
              "<div>\n",
              "<style scoped>\n",
              "    .dataframe tbody tr th:only-of-type {\n",
              "        vertical-align: middle;\n",
              "    }\n",
              "\n",
              "    .dataframe tbody tr th {\n",
              "        vertical-align: top;\n",
              "    }\n",
              "\n",
              "    .dataframe thead th {\n",
              "        text-align: right;\n",
              "    }\n",
              "</style>\n",
              "<table border=\"1\" class=\"dataframe\">\n",
              "  <thead>\n",
              "    <tr style=\"text-align: right;\">\n",
              "      <th></th>\n",
              "      <th>loss</th>\n",
              "      <th>mae</th>\n",
              "      <th>mse</th>\n",
              "      <th>val_loss</th>\n",
              "      <th>val_mae</th>\n",
              "      <th>val_mse</th>\n",
              "      <th>epoch</th>\n",
              "    </tr>\n",
              "  </thead>\n",
              "  <tbody>\n",
              "    <tr>\n",
              "      <th>13</th>\n",
              "      <td>15.889948</td>\n",
              "      <td>3.056051</td>\n",
              "      <td>15.889948</td>\n",
              "      <td>20.036131</td>\n",
              "      <td>3.391482</td>\n",
              "      <td>20.036131</td>\n",
              "      <td>13</td>\n",
              "    </tr>\n",
              "    <tr>\n",
              "      <th>14</th>\n",
              "      <td>15.913745</td>\n",
              "      <td>3.067438</td>\n",
              "      <td>15.913745</td>\n",
              "      <td>20.573368</td>\n",
              "      <td>3.553584</td>\n",
              "      <td>20.573368</td>\n",
              "      <td>14</td>\n",
              "    </tr>\n",
              "    <tr>\n",
              "      <th>15</th>\n",
              "      <td>15.808784</td>\n",
              "      <td>3.044711</td>\n",
              "      <td>15.808784</td>\n",
              "      <td>21.441921</td>\n",
              "      <td>3.449790</td>\n",
              "      <td>21.441921</td>\n",
              "      <td>15</td>\n",
              "    </tr>\n",
              "    <tr>\n",
              "      <th>16</th>\n",
              "      <td>15.858263</td>\n",
              "      <td>3.048914</td>\n",
              "      <td>15.858263</td>\n",
              "      <td>20.599871</td>\n",
              "      <td>3.617135</td>\n",
              "      <td>20.599871</td>\n",
              "      <td>16</td>\n",
              "    </tr>\n",
              "    <tr>\n",
              "      <th>17</th>\n",
              "      <td>15.894194</td>\n",
              "      <td>3.055466</td>\n",
              "      <td>15.894194</td>\n",
              "      <td>19.933769</td>\n",
              "      <td>3.417505</td>\n",
              "      <td>19.933769</td>\n",
              "      <td>17</td>\n",
              "    </tr>\n",
              "  </tbody>\n",
              "</table>\n",
              "</div>"
            ],
            "text/plain": [
              "         loss       mae        mse   val_loss   val_mae    val_mse  epoch\n",
              "13  15.889948  3.056051  15.889948  20.036131  3.391482  20.036131     13\n",
              "14  15.913745  3.067438  15.913745  20.573368  3.553584  20.573368     14\n",
              "15  15.808784  3.044711  15.808784  21.441921  3.449790  21.441921     15\n",
              "16  15.858263  3.048914  15.858263  20.599871  3.617135  20.599871     16\n",
              "17  15.894194  3.055466  15.894194  19.933769  3.417505  19.933769     17"
            ]
          },
          "metadata": {
            "tags": []
          },
          "execution_count": 54
        }
      ]
    },
    {
      "cell_type": "code",
      "metadata": {
        "id": "Rsycp4GnUZBm",
        "colab": {
          "base_uri": "https://localhost:8080/",
          "height": 300
        },
        "outputId": "81323d94-daf9-4d62-aa6a-413c00df58cc"
      },
      "source": [
        "plotter.plot({'L2 + Dropout Model': history_l2_dropout}, metric=\"mae\")\n",
        "plt.ylim([0, 10])\n",
        "plt.ylabel('MAE [tumor_size]')"
      ],
      "execution_count": null,
      "outputs": [
        {
          "output_type": "execute_result",
          "data": {
            "text/plain": [
              "Text(0, 0.5, 'MAE [tumor_size]')"
            ]
          },
          "metadata": {
            "tags": []
          },
          "execution_count": 55
        },
        {
          "output_type": "display_data",
          "data": {
            "image/png": "[encoded data removed]",
            "text/plain": [
              "<Figure size 432x288 with 1 Axes>"
            ]
          },
          "metadata": {
            "tags": []
          }
        }
      ]
    },
    {
      "cell_type": "markdown",
      "metadata": {
        "id": "Rdai3ZyOUprn"
      },
      "source": [
        "- The combined L2 + Dropout model has larger validation error than the previous model.\n"
      ]
    },
    {
      "cell_type": "markdown",
      "metadata": {
        "id": "FcDQvXcAUwN6"
      },
      "source": [
        "<a id=section603></a>\n",
        "### 6.3 Batch Normalization"
      ]
    },
    {
      "cell_type": "markdown",
      "metadata": {
        "id": "nukP_jngU0E1"
      },
      "source": [
        "- Batch normalization is a technique for training very deep neural networks.\n",
        "\n",
        "    - It **normalizes** the **activations** of the previous layer at each batch.\n",
        "\n",
        "    - It applies a transformation that maintains the mean activation close to 0 and the activation standard deviation close to 1.\n"
      ]
    },
    {
      "cell_type": "code",
      "metadata": {
        "id": "FMwShkj_Ugrb"
      },
      "source": [
        "model4 = keras.Sequential([layers.Dense(256, input_shape=[len(X_train.keys())]),\n",
        "                          layers.BatchNormalization(),\n",
        "                          layers.ReLU(),\n",
        "                          layers.Dense(256),\n",
        "                          layers.BatchNormalization(),\n",
        "                          layers.ReLU(),\n",
        "                          layers.Dense(256),\n",
        "                          layers.BatchNormalization(),\n",
        "                          layers.ReLU(),\n",
        "                          layers.Dense(256),\n",
        "                          layers.BatchNormalization(),\n",
        "                          layers.ReLU(),\n",
        "                          layers.Dense(1)])"
      ],
      "execution_count": null,
      "outputs": []
    },
    {
      "cell_type": "code",
      "metadata": {
        "id": "aYMan22wVCM1",
        "colab": {
          "base_uri": "https://localhost:8080/"
        },
        "outputId": "3f97843a-b757-409e-970d-ecedc98fd18c"
      },
      "source": [
        "model4.summary()"
      ],
      "execution_count": null,
      "outputs": [
        {
          "output_type": "stream",
          "text": [
            "Model: \"sequential_4\"\n",
            "_________________________________________________________________\n",
            "Layer (type)                 Output Shape              Param #   \n",
            "=================================================================\n",
            "dense_16 (Dense)             (None, 256)               2816      \n",
            "_________________________________________________________________\n",
            "batch_normalization (BatchNo (None, 256)               1024      \n",
            "_________________________________________________________________\n",
            "re_lu (ReLU)                 (None, 256)               0         \n",
            "_________________________________________________________________\n",
            "dense_17 (Dense)             (None, 256)               65792     \n",
            "_________________________________________________________________\n",
            "batch_normalization_1 (Batch (None, 256)               1024      \n",
            "_________________________________________________________________\n",
            "re_lu_1 (ReLU)               (None, 256)               0         \n",
            "_________________________________________________________________\n",
            "dense_18 (Dense)             (None, 256)               65792     \n",
            "_________________________________________________________________\n",
            "batch_normalization_2 (Batch (None, 256)               1024      \n",
            "_________________________________________________________________\n",
            "re_lu_2 (ReLU)               (None, 256)               0         \n",
            "_________________________________________________________________\n",
            "dense_19 (Dense)             (None, 256)               65792     \n",
            "_________________________________________________________________\n",
            "batch_normalization_3 (Batch (None, 256)               1024      \n",
            "_________________________________________________________________\n",
            "re_lu_3 (ReLU)               (None, 256)               0         \n",
            "_________________________________________________________________\n",
            "dense_20 (Dense)             (None, 1)                 257       \n",
            "=================================================================\n",
            "Total params: 204,545\n",
            "Trainable params: 202,497\n",
            "Non-trainable params: 2,048\n",
            "_________________________________________________________________\n"
          ],
          "name": "stdout"
        }
      ]
    },
    {
      "cell_type": "code",
      "metadata": {
        "id": "GWq9HpEiVEOW"
      },
      "source": [
        "# Defining the optimizer with a specific learning rate of 0.001\n",
        "optimizer = tf.keras.optimizers.RMSprop(0.001)\n",
        "\n",
        "# Compiling the model\n",
        "model4.compile(loss='mse', optimizer=optimizer, metrics=['mae'])"
      ],
      "execution_count": null,
      "outputs": []
    },
    {
      "cell_type": "code",
      "metadata": {
        "id": "SS5QEJOaVGPX",
        "colab": {
          "base_uri": "https://localhost:8080/"
        },
        "outputId": "216d22d4-eee1-4f05-a927-1dc96ef4dd7d"
      },
      "source": [
        "history_batch_norm = model4.fit(normed_train_data, y_train, epochs=100, validation_split=0.2,\n",
        "                          verbose=0, callbacks=[early_stop,tfdocs.modeling.EpochDots()])"
      ],
      "execution_count": null,
      "outputs": [
        {
          "output_type": "stream",
          "text": [
            "\n",
            "Epoch: 0, loss:31.5135,  mae:4.3440,  val_loss:32.1036,  val_mae:4.2992,  \n",
            "..........................................................."
          ],
          "name": "stdout"
        }
      ]
    },
    {
      "cell_type": "code",
      "metadata": {
        "id": "PlUBmbrpVIkG",
        "colab": {
          "base_uri": "https://localhost:8080/",
          "height": 194
        },
        "outputId": "aa27cc73-6ff7-4589-eed5-3b265d156a16"
      },
      "source": [
        "hist_batch_norm = pd.DataFrame(history_batch_norm.history)\n",
        "hist_batch_norm['epoch'] = history_batch_norm.epoch\n",
        "hist_batch_norm.tail()"
      ],
      "execution_count": null,
      "outputs": [
        {
          "output_type": "execute_result",
          "data": {
            "text/html": [
              "<div>\n",
              "<style scoped>\n",
              "    .dataframe tbody tr th:only-of-type {\n",
              "        vertical-align: middle;\n",
              "    }\n",
              "\n",
              "    .dataframe tbody tr th {\n",
              "        vertical-align: top;\n",
              "    }\n",
              "\n",
              "    .dataframe thead th {\n",
              "        text-align: right;\n",
              "    }\n",
              "</style>\n",
              "<table border=\"1\" class=\"dataframe\">\n",
              "  <thead>\n",
              "    <tr style=\"text-align: right;\">\n",
              "      <th></th>\n",
              "      <th>loss</th>\n",
              "      <th>mae</th>\n",
              "      <th>val_loss</th>\n",
              "      <th>val_mae</th>\n",
              "      <th>epoch</th>\n",
              "    </tr>\n",
              "  </thead>\n",
              "  <tbody>\n",
              "    <tr>\n",
              "      <th>54</th>\n",
              "      <td>14.150403</td>\n",
              "      <td>2.794551</td>\n",
              "      <td>19.044619</td>\n",
              "      <td>3.102055</td>\n",
              "      <td>54</td>\n",
              "    </tr>\n",
              "    <tr>\n",
              "      <th>55</th>\n",
              "      <td>14.555655</td>\n",
              "      <td>2.824756</td>\n",
              "      <td>18.819120</td>\n",
              "      <td>3.280578</td>\n",
              "      <td>55</td>\n",
              "    </tr>\n",
              "    <tr>\n",
              "      <th>56</th>\n",
              "      <td>14.482436</td>\n",
              "      <td>2.818703</td>\n",
              "      <td>19.557215</td>\n",
              "      <td>3.152353</td>\n",
              "      <td>56</td>\n",
              "    </tr>\n",
              "    <tr>\n",
              "      <th>57</th>\n",
              "      <td>14.673195</td>\n",
              "      <td>2.836657</td>\n",
              "      <td>19.519911</td>\n",
              "      <td>3.128519</td>\n",
              "      <td>57</td>\n",
              "    </tr>\n",
              "    <tr>\n",
              "      <th>58</th>\n",
              "      <td>14.882645</td>\n",
              "      <td>2.867791</td>\n",
              "      <td>18.339912</td>\n",
              "      <td>3.038502</td>\n",
              "      <td>58</td>\n",
              "    </tr>\n",
              "  </tbody>\n",
              "</table>\n",
              "</div>"
            ],
            "text/plain": [
              "         loss       mae   val_loss   val_mae  epoch\n",
              "54  14.150403  2.794551  19.044619  3.102055     54\n",
              "55  14.555655  2.824756  18.819120  3.280578     55\n",
              "56  14.482436  2.818703  19.557215  3.152353     56\n",
              "57  14.673195  2.836657  19.519911  3.128519     57\n",
              "58  14.882645  2.867791  18.339912  3.038502     58"
            ]
          },
          "metadata": {
            "tags": []
          },
          "execution_count": 60
        }
      ]
    },
    {
      "cell_type": "code",
      "metadata": {
        "id": "p-Req8cjVNa1",
        "colab": {
          "base_uri": "https://localhost:8080/",
          "height": 300
        },
        "outputId": "8058e662-feef-4c8a-c4a2-2d2843c96a7c"
      },
      "source": [
        "plotter.plot({'Batch Normalization Model': history_batch_norm}, metric=\"mae\")\n",
        "plt.ylim([0, 10])\n",
        "plt.ylabel('MAE [tumor_size]')"
      ],
      "execution_count": null,
      "outputs": [
        {
          "output_type": "execute_result",
          "data": {
            "text/plain": [
              "Text(0, 0.5, 'MAE [tumor_size]')"
            ]
          },
          "metadata": {
            "tags": []
          },
          "execution_count": 61
        },
        {
          "output_type": "display_data",
          "data": {
            "image/png": "[encoded data removed]",
            "text/plain": [
              "<Figure size 432x288 with 1 Axes>"
            ]
          },
          "metadata": {
            "tags": []
          }
        }
      ]
    },
    {
      "cell_type": "markdown",
      "metadata": {
        "id": "AglPRXbLVaAV"
      },
      "source": [
        "- The Batch Normalization model attains the **lowest validation set error**.\n",
        "\n",
        "- We have significantly **reduced** the **overfitting**.\n"
      ]
    },
    {
      "cell_type": "markdown",
      "metadata": {
        "id": "kibRrQFYnR28"
      },
      "source": [
        "<a id=section7></a>\n",
        "#7. Prediction on test set"
      ]
    },
    {
      "cell_type": "code",
      "metadata": {
        "id": "IFCTjY7KWkZy"
      },
      "source": [
        "test_data = norm(tumor_test)\n",
        "pred_y=model4.predict(test_data)"
      ],
      "execution_count": null,
      "outputs": []
    },
    {
      "cell_type": "code",
      "metadata": {
        "id": "4tQL3vmMXjwk"
      },
      "source": [
        "pred_y=pred_y.flatten()"
      ],
      "execution_count": null,
      "outputs": []
    },
    {
      "cell_type": "code",
      "metadata": {
        "id": "DdhI0DO7W1_R"
      },
      "source": [
        "submission = pd.DataFrame({'Id':tumor_test['Id'],'tumor_size':pred_y})\n",
        "submission.to_csv('Submission.csv',header=False,index=False)"
      ],
      "execution_count": null,
      "outputs": []
    },
    {
      "cell_type": "code",
      "metadata": {
        "id": "Zf9twQq8YE4G",
        "colab": {
          "base_uri": "https://localhost:8080/",
          "height": 194
        },
        "outputId": "6007b0a8-d14a-4cd0-8437-3b40cedff58d"
      },
      "source": [
        "submission.head()"
      ],
      "execution_count": null,
      "outputs": [
        {
          "output_type": "execute_result",
          "data": {
            "text/html": [
              "<div>\n",
              "<style scoped>\n",
              "    .dataframe tbody tr th:only-of-type {\n",
              "        vertical-align: middle;\n",
              "    }\n",
              "\n",
              "    .dataframe tbody tr th {\n",
              "        vertical-align: top;\n",
              "    }\n",
              "\n",
              "    .dataframe thead th {\n",
              "        text-align: right;\n",
              "    }\n",
              "</style>\n",
              "<table border=\"1\" class=\"dataframe\">\n",
              "  <thead>\n",
              "    <tr style=\"text-align: right;\">\n",
              "      <th></th>\n",
              "      <th>Id</th>\n",
              "      <th>tumor_size</th>\n",
              "    </tr>\n",
              "  </thead>\n",
              "  <tbody>\n",
              "    <tr>\n",
              "      <th>0</th>\n",
              "      <td>1962</td>\n",
              "      <td>11.968806</td>\n",
              "    </tr>\n",
              "    <tr>\n",
              "      <th>1</th>\n",
              "      <td>7018</td>\n",
              "      <td>1.061470</td>\n",
              "    </tr>\n",
              "    <tr>\n",
              "      <th>2</th>\n",
              "      <td>711</td>\n",
              "      <td>3.035814</td>\n",
              "    </tr>\n",
              "    <tr>\n",
              "      <th>3</th>\n",
              "      <td>3443</td>\n",
              "      <td>1.276844</td>\n",
              "    </tr>\n",
              "    <tr>\n",
              "      <th>4</th>\n",
              "      <td>7087</td>\n",
              "      <td>15.470489</td>\n",
              "    </tr>\n",
              "  </tbody>\n",
              "</table>\n",
              "</div>"
            ],
            "text/plain": [
              "     Id  tumor_size\n",
              "0  1962   11.968806\n",
              "1  7018    1.061470\n",
              "2   711    3.035814\n",
              "3  3443    1.276844\n",
              "4  7087   15.470489"
            ]
          },
          "metadata": {
            "tags": []
          },
          "execution_count": 69
        }
      ]
    },
    {
      "cell_type": "code",
      "metadata": {
        "id": "5iPr5s9TgCGq",
        "colab": {
          "base_uri": "https://localhost:8080/",
          "height": 194
        },
        "outputId": "fa534e6c-9fbf-4d97-bcbd-dc9d47d85667"
      },
      "source": [
        "y_df = pd.read_csv('tumor_y_test.csv', names=['Id', 'tumor_size'])\n",
        "y_df.head()"
      ],
      "execution_count": null,
      "outputs": [
        {
          "output_type": "execute_result",
          "data": {
            "text/html": [
              "<div>\n",
              "<style scoped>\n",
              "    .dataframe tbody tr th:only-of-type {\n",
              "        vertical-align: middle;\n",
              "    }\n",
              "\n",
              "    .dataframe tbody tr th {\n",
              "        vertical-align: top;\n",
              "    }\n",
              "\n",
              "    .dataframe thead th {\n",
              "        text-align: right;\n",
              "    }\n",
              "</style>\n",
              "<table border=\"1\" class=\"dataframe\">\n",
              "  <thead>\n",
              "    <tr style=\"text-align: right;\">\n",
              "      <th></th>\n",
              "      <th>Id</th>\n",
              "      <th>tumor_size</th>\n",
              "    </tr>\n",
              "  </thead>\n",
              "  <tbody>\n",
              "    <tr>\n",
              "      <th>0</th>\n",
              "      <td>1962</td>\n",
              "      <td>16.262</td>\n",
              "    </tr>\n",
              "    <tr>\n",
              "      <th>1</th>\n",
              "      <td>7018</td>\n",
              "      <td>2.131</td>\n",
              "    </tr>\n",
              "    <tr>\n",
              "      <th>2</th>\n",
              "      <td>711</td>\n",
              "      <td>3.064</td>\n",
              "    </tr>\n",
              "    <tr>\n",
              "      <th>3</th>\n",
              "      <td>3443</td>\n",
              "      <td>1.992</td>\n",
              "    </tr>\n",
              "    <tr>\n",
              "      <th>4</th>\n",
              "      <td>7087</td>\n",
              "      <td>19.267</td>\n",
              "    </tr>\n",
              "  </tbody>\n",
              "</table>\n",
              "</div>"
            ],
            "text/plain": [
              "     Id  tumor_size\n",
              "0  1962      16.262\n",
              "1  7018       2.131\n",
              "2   711       3.064\n",
              "3  3443       1.992\n",
              "4  7087      19.267"
            ]
          },
          "metadata": {
            "tags": []
          },
          "execution_count": 70
        }
      ]
    }
  ]
}